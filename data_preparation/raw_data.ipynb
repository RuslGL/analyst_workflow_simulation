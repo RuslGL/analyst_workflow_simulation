{
 "cells": [
  {
   "cell_type": "code",
   "execution_count": 1,
   "id": "95105c5f-333e-4d27-a74f-5959cb17358d",
   "metadata": {},
   "outputs": [],
   "source": [
    "import pandas as pd\n",
    "import numpy as np\n",
    "from datetime import datetime, timedelta, time\n",
    "import matplotlib.pyplot as plt\n",
    "from tqdm import tqdm\n",
    "\n",
    "import warnings\n",
    "\n",
    "warnings.filterwarnings('ignore')"
   ]
  },
  {
   "cell_type": "markdown",
   "id": "cbef559d-3e89-4fc2-9ab5-2dde5743ea5d",
   "metadata": {},
   "source": [
    "# Задача\n",
    "## Создание датафрейма, имитирующего поведение пользователей в рамках активно развивающегося продукта\n",
    "\n",
    "## Цель подготовить датафрейм:\n",
    "- позволяющий генерировать данные, позволяющие замерять основные продуктовые метрики\n",
    "- на основе которого можно создать онлайн ETL для симуляции жизни продукта\n",
    "- позволяющий после ETL проводить эксперименты, проверку гипотез, АБ/АА тестирование, замер MDE\n",
    "\n",
    "## Результатом должны стать данные, позволяющие создать пет проект, для отработки навыков аналитика."
   ]
  },
  {
   "cell_type": "markdown",
   "id": "893667b3-2417-4d69-ba09-dcaa53b6ef5f",
   "metadata": {},
   "source": [
    "#### Исходные данные\n",
    "- задают стартовые настройки,\n",
    "- могут изменяться при каждом запуске ноутбука, что изменит итоговую генерацию данных (как по объему так и по содержанию) "
   ]
  },
  {
   "cell_type": "code",
   "execution_count": 2,
   "id": "f256cd50-8b74-4be2-908d-43e219912eb8",
   "metadata": {},
   "outputs": [],
   "source": [
    "# Задаём временные параметры\n",
    "start_date = datetime(2025, 1, 1)\n",
    "end_date = datetime(2025, 12, 31)\n",
    "days = (end_date - start_date).days + 1\n",
    "\n",
    "# Показатели прироста пользователей\n",
    "initial_users = 47  # Начальное количество пользователей\n",
    "target_users = 475 # Цель по приросту юзеров на конец периода\n",
    "noise_std = 30 # Уровень шума (среднее квадтратичное отклонение) при генерации новых пользователей\n",
    "\n",
    "# mean_growth = 0.015  # Средний прирост в день (доля - не процент)\n",
    "# growth_std = 0.006  # Отклонение изменения прироста\n",
    "\n",
    "# Параметры количества просмотров в день для регулярного пользователя\n",
    "mean_visits_per_day = 12  # Среднее количество визитов в день\n",
    "std_visits_per_day = mean_visits_per_day * 0.30  # Стандартное отклонение 30%\n",
    "\n",
    "\n",
    "# Параметры количества просмотров в день для нерегулярного пользователя\n",
    "lt = 15 # Средний срок жизни непостоянного пользователя\n",
    "std_lt = 5 # стандартное отклонение в сроке жихни пользователя\n",
    "\n",
    "# Среднее и стандартное отклонение для логнормального распределения визитов нерегулярных пользователей\n",
    "mean_visits_per_day_log = 10  # Среднее количество визитов\n",
    "std_visits_per_day_log = 3  # Стандартное отклонение"
   ]
  },
  {
   "cell_type": "markdown",
   "id": "c9d5013f-05c5-408c-9982-6a40065ddb15",
   "metadata": {},
   "source": [
    "## Универсальные функции"
   ]
  },
  {
   "cell_type": "markdown",
   "id": "b80fc2a4-6e71-4aaa-9632-0b8b9ccab42a",
   "metadata": {},
   "source": [
    "### Генерирует время захода юзеров по следующим правилам\n",
    "\n",
    "#### Основной поток \n",
    "(10:00 - 22:30)\n",
    "\n",
    "Это самая большая часть потока пользователей, которая составляет 70% от общего числа пользователей (значение n * 0.7).\n",
    "Время для этих пользователей генерируется с использованием логнормального распределения с параметрами mean=2.5 (среднее/матожидание) и sigma=0.5 (стандартное отклонение). Это создает большую концентрацию пользователей в районе 10:00 - 22:30, с возможными пиками в разные часы.\n",
    "\n",
    "\n",
    "#### Вечерний всплеск \n",
    "(21:00 - 22:30)\n",
    "\n",
    "На всплеск приходится +20% от общего числа пользователей (значение n * 0.2).\n",
    "Время для этих пользователей генерируется с использованием нормального распределения с параметрами loc=21.75 (среднее = время 21:45) и scale=0.3 (стандартное отклонение от среднего). Это создаёт более плотный поток в поздние часы вечера, около 21:30 - 22:30.\n",
    "\n",
    "#### Ночной поток\n",
    "(23:00 - 10:00)\n",
    "\n",
    "Это 10% от общего числа пользователей (значение n * 0.1).\n",
    "Для этих пользователей генерируется время с использованием нормального распределения с параметрами loc=4.5 (время 4:30) и scale=1.0, что даёт распределение с пиками около ночи. Однако, время ограничивается в пределах 00:00 - 10:00 с помощью функции np.clip."
   ]
  },
  {
   "cell_type": "code",
   "execution_count": 3,
   "id": "b81d12a8-f0da-4aff-be3c-8f6ea7f4e0bc",
   "metadata": {},
   "outputs": [],
   "source": [
    "# Функция для генерации времени входа\n",
    "def generate_visit_time(n, date):\n",
    "    # Основной поток (10:00 - 22:30)\n",
    "    morning_peak = np.random.lognormal(mean=2.5, sigma=0.5, size=int(n * 0.7))  # Основной поток\n",
    "    evening_peak = np.random.normal(loc=21.75, scale=0.3, size=int(n * 0.2))  # Вечерний всплеск\n",
    "    \n",
    "    # Добавляем ночной поток (23:00 - 10:00), он в 2 раза слабее вечернего\n",
    "    night_users = int(n * 0.1)  # 10% от общего числа пользователей\n",
    "    if night_users > 0:\n",
    "        night_base = np.random.normal(loc=4.5, scale=1.0, size=night_users)  # Среднее 4:30, разброс 1 час\n",
    "        night_base = np.clip(night_base, 0, 10)  # Ограничиваем 00:00 - 10:00\n",
    "    else:\n",
    "        night_base = np.array([])  # Добавляем пустой массив, если пользователей нет\n",
    "\n",
    "    # Объединяем все периоды\n",
    "    hours = np.concatenate([morning_peak, evening_peak, night_base])\n",
    "    hours = np.clip(hours, 0, 22.5)  # Общий диапазон 00:00 - 22:30\n",
    "    minutes = np.random.randint(0, 60, len(hours))\n",
    "\n",
    "    return [date + timedelta(hours=float(h), minutes=int(m)) for h, m in zip(hours, minutes)]"
   ]
  },
  {
   "cell_type": "markdown",
   "id": "1336d7d6-611f-4a8d-b939-21634b6ef607",
   "metadata": {},
   "source": [
    "### На основе датафрейма с ежедневным количеством посещений для каждого юзера создает строки (объекты) с посещениями"
   ]
  },
  {
   "cell_type": "code",
   "execution_count": 4,
   "id": "0d6ab46b-58ea-4127-8c30-e011a5700803",
   "metadata": {},
   "outputs": [],
   "source": [
    "def create_visit_lines(data, target_date):\n",
    "    target_date = datetime.strptime(target_date , '%Y-%m-%d').date()\n",
    "    \n",
    "    data_filtered = data[data['datetime'].dt.date == target_date].copy()\n",
    "    data_filtered = data_filtered[['datetime', 'user_id', 'first_visit_unique', 'visits_per_day']]\n",
    "    \n",
    "    # Для каждого пользователя генерируем визиты\n",
    "    user_visit_data = []\n",
    "    \n",
    "    for _, row in data_filtered.iterrows():\n",
    "        user_id = row['user_id']\n",
    "        visits_count = row['visits_per_day']\n",
    "        first_visit_unique = row['first_visit_unique']\n",
    "    \n",
    "        visit_times = generate_visit_time(visits_count, datetime(target_date.year, target_date.month, target_date.day))    \n",
    "        \n",
    "        for visit_time in visit_times:\n",
    "            user_visit_data.append({\n",
    "                'datetime': visit_time,\n",
    "                'user_id': user_id,\n",
    "                'action': 'view',\n",
    "                'type': 'main', \n",
    "            })\n",
    "    \n",
    "    # Преобразуем список в DataFrame\n",
    "    df_visit_times = pd.DataFrame(user_visit_data)\n",
    "    df_visit_times['datetime'] = pd.to_datetime(df_visit_times['datetime'])\n",
    "    \n",
    "    # Добавляем first_visit_unique к каждому user_id\n",
    "    df_visit_times = df_visit_times.merge(\n",
    "        data_filtered[['user_id', 'first_visit_unique']], on='user_id', how='left'\n",
    "    )\n",
    "\n",
    "    # Фильтруем по first_visit_unique\n",
    "    df_visit_times = df_visit_times[df_visit_times['datetime'] >= df_visit_times['first_visit_unique']]\n",
    "\n",
    "    # Удаляем first_visit_unique из финального датасета\n",
    "    df_visit_times = df_visit_times.drop(columns=['first_visit_unique'])\n",
    "\n",
    "    return df_visit_times"
   ]
  },
  {
   "cell_type": "markdown",
   "id": "3a395c78-cf7e-4dfd-ad30-6aef3cb68b42",
   "metadata": {},
   "source": [
    "### Базовый график для отражения динамики измнения количественных данных\n",
    "(например посещений в день, колебания внутри дня и т.п.)"
   ]
  },
  {
   "cell_type": "code",
   "execution_count": 5,
   "id": "370b76db-1e2a-458d-9458-5fa3115bce33",
   "metadata": {},
   "outputs": [],
   "source": [
    "def line_plot(dataset, figsize = (12, 3),\n",
    "              label='Количество пользователей', xlabel='Дни',\n",
    "              ylabel = 'Количество пользователей'):\n",
    "    plt.figure(figsize=figsize)\n",
    "    plt.plot(dataset, label=label, color='b')\n",
    "    plt.xlabel(xlabel)\n",
    "    plt.ylabel(ylabel)\n",
    "    plt.title(label)\n",
    "    plt.legend()\n",
    "    plt.grid(True)\n",
    "    plt.show()"
   ]
  },
  {
   "cell_type": "markdown",
   "id": "b112da71-0204-4757-aa41-44fc1def545a",
   "metadata": {},
   "source": [
    "## Этап 1. Генерируем новых пользователей для каждого дня жизни продукта"
   ]
  },
  {
   "cell_type": "markdown",
   "id": "948841ac-7dff-49dc-965b-8f933ae60f6b",
   "metadata": {},
   "source": [
    "## Этап 1.1. Выбираем способ формирования пула новых пользователей"
   ]
  },
  {
   "cell_type": "markdown",
   "id": "f640b829-da34-40f2-9193-5ec665df29c5",
   "metadata": {},
   "source": [
    "### 1.1.1. Ежедневный прирост на 1,5%\n",
    "для реалистичности добавляем колебания количества новых пользователей\n",
    "(нормальное распредление со стандартным отклонением 0.6%)"
   ]
  },
  {
   "cell_type": "code",
   "execution_count": 6,
   "id": "5f019bea-a3da-4410-97a9-73ee7156cc23",
   "metadata": {},
   "outputs": [
    {
     "data": {
      "image/png": "[encoded data removed]",
      "text/plain": [
       "<Figure size 1000x500 with 1 Axes>"
      ]
     },
     "metadata": {},
     "output_type": "display_data"
    }
   ],
   "source": [
    "# Задаём временные параметры\n",
    "test_start_date = datetime(2025, 1, 1)\n",
    "test_end_date = datetime(2025, 12, 31)\n",
    "test_days = (test_end_date - test_start_date).days + 1\n",
    "\n",
    "# Показатели прироста пользователей\n",
    "test_initial_users = 5   # Начальное количество пользователей\n",
    "test_mean_growth = 0.015 # Средний прирост в день (доля - не процент)\n",
    "test_growth_std = 0.009  # Отклонение изменения прироста\n",
    "\n",
    "# Генерируем количество пользователей на каждый день\n",
    "daily_users = [test_initial_users]\n",
    "\n",
    "for _ in range(1, test_days):\n",
    "    prev_users = daily_users[-1]\n",
    "    adjusted_growth = test_mean_growth + np.random.normal(0, test_growth_std)  # Случайное изменение прироста\n",
    "    new_users = int(np.ceil(prev_users * (1 + adjusted_growth)))  # Применяем изменённый прирост и округляем вверх\n",
    "    daily_users.append(max(new_users, prev_users + 1))  # Гарантируем рост хотя бы на 1 пользователя\n",
    "\n",
    "# Визуализация\n",
    "x = np.arange(1, test_days + 1)\n",
    "y = np.array(daily_users)\n",
    "\n",
    "plt.figure(figsize=(10, 5))\n",
    "plt.scatter(x, y, color='red', s=1, alpha=0.5, label='Прирост пользователей')\n",
    "plt.xlabel('Дни')\n",
    "plt.ylabel('Количество пользователей')\n",
    "plt.legend()\n",
    "plt.grid()\n",
    "plt.show()"
   ]
  },
  {
   "cell_type": "code",
   "execution_count": 7,
   "id": "d0e5713c-0e39-47ba-9415-a70105319cd3",
   "metadata": {},
   "outputs": [
    {
     "data": {
      "text/plain": [
       "745605"
      ]
     },
     "execution_count": 7,
     "metadata": {},
     "output_type": "execute_result"
    }
   ],
   "source": [
    "y.sum()"
   ]
  },
  {
   "cell_type": "markdown",
   "id": "e65579e6-9432-4507-84b8-d1b9f31c4579",
   "metadata": {},
   "source": [
    "### Промежуточный вывод:\n",
    "- имееем чрезмерно большое количество данных для тренировочного датасета (у каждого юзера быдут дополнительно формироваться визиты и целевые действия, что увеличит общее количество записей в сотни раз)\n",
    "- кривая прироста пользователейц выглядит неестественно в той части, где имеем экспоненциальный рост (что понятно для полиномиальной функции, несмотря на небольшую степень)\n",
    "- у классического it  продукта даже при резком старте со временем прирост новых пользователей замедляется в виду насыщения рынка "
   ]
  },
  {
   "cell_type": "markdown",
   "id": "44598784-bc47-4e86-a190-fbe63ab5bd6d",
   "metadata": {},
   "source": [
    "### 1.1.2. Генерируем логарифмический рост пользователей с фиксацией конечного их количества\n",
    "Логарифмический рост дает картину близкую к реальной, а именно:\n",
    "- имеем буст прироста в начале периода\n",
    "- далее прирост замедляется\n",
    "- далее выход на плато\n",
    "  \n",
    "Для реалистичности добавляем колебания количества новых пользователей\n",
    "(нормальное распредление со стандартным отклонением 0.6%)"
   ]
  },
  {
   "cell_type": "code",
   "execution_count": 8,
   "id": "7a0995b5-e74f-4c6f-8183-1a9abd801939",
   "metadata": {},
   "outputs": [
    {
     "data": {
      "image/png": "[encoded data removed]",
      "text/plain": [
       "<Figure size 1000x500 with 1 Axes>"
      ]
     },
     "metadata": {},
     "output_type": "display_data"
    }
   ],
   "source": [
    "# Задаём временные параметры\n",
    "test_start_date = datetime(2025, 1, 1)\n",
    "test_end_date = datetime(2025, 12, 31)\n",
    "test_days = (test_end_date - test_start_date).days + 1\n",
    "\n",
    "# Показатели прироста пользователей\n",
    "test_initial_users = 50     # Начальное количество пользователей\n",
    "test_target_users = 1000   # Количество пользователей на конец периода\n",
    "test_noise_std = 30\n",
    "\n",
    "# Генерируем дни от 1 до test_days\n",
    "x = np.arange(1, test_days + 1)\n",
    "\n",
    "# Логарифмический рост пользователей\n",
    "growth_factor = np.log1p(x)  # log1p(x) = log(1 + x), избегает log(0)\n",
    "y = test_initial_users + (test_target_users - test_initial_users) * (growth_factor / max(growth_factor))\n",
    "\n",
    "# Добавляем шум\n",
    "noise = np.random.normal(scale=noise_std, size=len(y))  # Увеличим разброс\n",
    "y_noisy = y + noise\n",
    "y_noisy = np.maximum(y_noisy, test_initial_users)  # Убираем отрицательные значения\n",
    "\n",
    "# Визуализация\n",
    "plt.figure(figsize=(10, 5))\n",
    "plt.plot(x, y, label='Логарифмический рост', linestyle='dashed')\n",
    "plt.scatter(x, y_noisy, color='red', s=10, alpha=0.5, label='Случайные точки с шумом')\n",
    "plt.xlabel('Дни')\n",
    "plt.ylabel('Количество пользователей')\n",
    "plt.legend()\n",
    "plt.grid()\n",
    "plt.show()"
   ]
  },
  {
   "cell_type": "code",
   "execution_count": 9,
   "id": "41e8bdec-8158-4878-8e0b-2f85b3f8fc2b",
   "metadata": {},
   "outputs": [
    {
     "data": {
      "text/plain": [
       "307759.5871266163"
      ]
     },
     "execution_count": 9,
     "metadata": {},
     "output_type": "execute_result"
    }
   ],
   "source": [
    "y_noisy.sum()"
   ]
  },
  {
   "cell_type": "code",
   "execution_count": 10,
   "id": "9764833c-2c61-4679-9b88-d45634461dd9",
   "metadata": {},
   "outputs": [
    {
     "data": {
      "text/plain": [
       "307667.02326298255"
      ]
     },
     "execution_count": 10,
     "metadata": {},
     "output_type": "execute_result"
    }
   ],
   "source": [
    "y.sum()"
   ]
  },
  {
   "cell_type": "markdown",
   "id": "0fda764f-ee10-4acc-baaa-759c6507eb62",
   "metadata": {},
   "source": [
    "## Вывод по итогам этапа\n",
    "- останавливаемся на логарифмическом росте, так как он более реалистично отражает прирост пользователей\n",
    "- в связи с быстрым ростом количества пользователей (чатсь из которых станет постоянными), количество визитов/просмотров у нас будет приближаться (а возможно и превысит) аналогичные показатели для данных сгенерированных по формуле с фиксированным ежедненым приростом.  "
   ]
  },
  {
   "cell_type": "markdown",
   "id": "99697f00-26ff-49b5-8e75-6008b576134f",
   "metadata": {},
   "source": [
    "## Этап 1.2. Сгенерируем данные, симулирующие ежедневный приход новых пользователей\n"
   ]
  },
  {
   "cell_type": "code",
   "execution_count": 11,
   "id": "6c107ec8-17e2-4849-b7e7-1ea756194641",
   "metadata": {},
   "outputs": [
    {
     "data": {
      "text/plain": [
       "array([481, 440, 489, 483, 497, 441, 467, 467, 550, 492])"
      ]
     },
     "execution_count": 11,
     "metadata": {},
     "output_type": "execute_result"
    }
   ],
   "source": [
    "# Генерируем количество пользователей на каждый день \n",
    "daily_users = [initial_users]\n",
    "\n",
    "# Генерируем дни от 1 до days\n",
    "x = np.arange(1, days + 1)\n",
    "\n",
    "# Логарифмический рост пользователей\n",
    "growth_factor = np.log1p(x)  # log1p(x) = log(1 + x), избегает log(0)\n",
    "y = initial_users + (target_users - initial_users) * (growth_factor / max(growth_factor))\n",
    "\n",
    "# Добавляем шум\n",
    "noise = np.random.normal(scale=noise_std, size=len(y))  # Увеличенный разброс\n",
    "daily_users = np.maximum(y + noise, initial_users).astype(int)  # Убираем отрицательные значения и округляем\n",
    "\n",
    "daily_users[-10:]"
   ]
  },
  {
   "cell_type": "code",
   "execution_count": 12,
   "id": "6707fd5d-d4b9-42fd-9b5d-38a45f9279a3",
   "metadata": {},
   "outputs": [
    {
     "data": {
      "image/png": "[encoded data removed]",
      "text/plain": [
       "<Figure size 1200x300 with 1 Axes>"
      ]
     },
     "metadata": {},
     "output_type": "display_data"
    }
   ],
   "source": [
    "line_plot(daily_users, label='Рост числа пользователей')"
   ]
  },
  {
   "cell_type": "markdown",
   "id": "be0ecbb1-0b6f-4842-8f1d-5b28ddce2042",
   "metadata": {},
   "source": [
    "#### Создаем датафрейм где отразим приход новых пользователей\n",
    "с указанием для каждого первого времени пользования продуктом"
   ]
  },
  {
   "cell_type": "code",
   "execution_count": 13,
   "id": "675f78b3-89af-49a4-b8e9-43a9c7683135",
   "metadata": {},
   "outputs": [
    {
     "name": "stdout",
     "output_type": "stream",
     "text": [
      "CPU times: user 725 ms, sys: 11 ms, total: 736 ms\n",
      "Wall time: 293 ms\n"
     ]
    },
    {
     "data": {
      "text/html": [
       "<div>\n",
       "<style scoped>\n",
       "    .dataframe tbody tr th:only-of-type {\n",
       "        vertical-align: middle;\n",
       "    }\n",
       "\n",
       "    .dataframe tbody tr th {\n",
       "        vertical-align: top;\n",
       "    }\n",
       "\n",
       "    .dataframe thead th {\n",
       "        text-align: right;\n",
       "    }\n",
       "</style>\n",
       "<table border=\"1\" class=\"dataframe\">\n",
       "  <thead>\n",
       "    <tr style=\"text-align: right;\">\n",
       "      <th></th>\n",
       "      <th>datetime</th>\n",
       "      <th>user_id</th>\n",
       "      <th>action</th>\n",
       "      <th>type</th>\n",
       "      <th>first_visit</th>\n",
       "    </tr>\n",
       "  </thead>\n",
       "  <tbody>\n",
       "    <tr>\n",
       "      <th>0</th>\n",
       "      <td>2025-01-01 06:42:55.969633</td>\n",
       "      <td>1</td>\n",
       "      <td>view</td>\n",
       "      <td>main</td>\n",
       "      <td>2025-01-01 06:42:55.969633</td>\n",
       "    </tr>\n",
       "    <tr>\n",
       "      <th>1</th>\n",
       "      <td>2025-01-01 12:42:56.420493</td>\n",
       "      <td>2</td>\n",
       "      <td>view</td>\n",
       "      <td>main</td>\n",
       "      <td>2025-01-01 12:42:56.420493</td>\n",
       "    </tr>\n",
       "    <tr>\n",
       "      <th>2</th>\n",
       "      <td>2025-01-01 15:39:26.883273</td>\n",
       "      <td>3</td>\n",
       "      <td>view</td>\n",
       "      <td>main</td>\n",
       "      <td>2025-01-01 15:39:26.883273</td>\n",
       "    </tr>\n",
       "    <tr>\n",
       "      <th>3</th>\n",
       "      <td>2025-01-01 17:54:28.850977</td>\n",
       "      <td>4</td>\n",
       "      <td>view</td>\n",
       "      <td>main</td>\n",
       "      <td>2025-01-01 17:54:28.850977</td>\n",
       "    </tr>\n",
       "    <tr>\n",
       "      <th>4</th>\n",
       "      <td>2025-01-01 16:10:11.912295</td>\n",
       "      <td>5</td>\n",
       "      <td>view</td>\n",
       "      <td>main</td>\n",
       "      <td>2025-01-01 16:10:11.912295</td>\n",
       "    </tr>\n",
       "  </tbody>\n",
       "</table>\n",
       "</div>"
      ],
      "text/plain": [
       "                    datetime  user_id action  type                first_visit\n",
       "0 2025-01-01 06:42:55.969633        1   view  main 2025-01-01 06:42:55.969633\n",
       "1 2025-01-01 12:42:56.420493        2   view  main 2025-01-01 12:42:56.420493\n",
       "2 2025-01-01 15:39:26.883273        3   view  main 2025-01-01 15:39:26.883273\n",
       "3 2025-01-01 17:54:28.850977        4   view  main 2025-01-01 17:54:28.850977\n",
       "4 2025-01-01 16:10:11.912295        5   view  main 2025-01-01 16:10:11.912295"
      ]
     },
     "execution_count": 13,
     "metadata": {},
     "output_type": "execute_result"
    }
   ],
   "source": [
    "%%time\n",
    "# Создаём датафрейм\n",
    "data = []\n",
    "\n",
    "user_counter = 1  # Инициализация счётчика для user_id\n",
    "\n",
    "for i, user_count in enumerate(daily_users):\n",
    "    date = start_date + timedelta(days=i)\n",
    "    visit_times = generate_visit_time(user_count, date)\n",
    "\n",
    "    for visit_time in visit_times:\n",
    "        data.append([visit_time, user_counter, 'view', 'main', visit_time]) \n",
    "        user_counter += 1  # Увеличиваем счётчик для следующего пользователя\n",
    "\n",
    "# Создаём DataFrame\n",
    "df = pd.DataFrame(data, columns=[\"datetime\", \"user_id\", \"action\", \"type\", \"first_visit\"])\n",
    "\n",
    "# Проверка результата\n",
    "df.head()"
   ]
  },
  {
   "cell_type": "code",
   "execution_count": 14,
   "id": "1e270119-6c5b-4240-b73d-f615334c2c5b",
   "metadata": {},
   "outputs": [
    {
     "name": "stdout",
     "output_type": "stream",
     "text": [
      "<class 'pandas.core.frame.DataFrame'>\n",
      "RangeIndex: 146723 entries, 0 to 146722\n",
      "Data columns (total 5 columns):\n",
      " #   Column       Non-Null Count   Dtype         \n",
      "---  ------       --------------   -----         \n",
      " 0   datetime     146723 non-null  datetime64[ns]\n",
      " 1   user_id      146723 non-null  int64         \n",
      " 2   action       146723 non-null  object        \n",
      " 3   type         146723 non-null  object        \n",
      " 4   first_visit  146723 non-null  datetime64[ns]\n",
      "dtypes: datetime64[ns](2), int64(1), object(2)\n",
      "memory usage: 5.6+ MB\n"
     ]
    }
   ],
   "source": [
    "df.info()"
   ]
  },
  {
   "cell_type": "markdown",
   "id": "86606f3c-8ec4-4408-b756-eeea1514e70a",
   "metadata": {},
   "source": [
    "#### Посмотрим визуально внутридневные колебания"
   ]
  },
  {
   "cell_type": "code",
   "execution_count": 15,
   "id": "c79ef5e8-60ca-4cda-b567-4b56590b95e0",
   "metadata": {},
   "outputs": [
    {
     "data": {
      "image/png": "[encoded data removed]",
      "text/plain": [
       "<Figure size 1200x300 with 1 Axes>"
      ]
     },
     "metadata": {},
     "output_type": "display_data"
    }
   ],
   "source": [
    "# 1. Фильтруем данные за 7 дней\n",
    "df_february = df[(df['datetime'] >= '2025-12-01') & (df['datetime'] < '2025-12-8')]\n",
    "\n",
    "# 2. Округляем время до 15-минутных интервалов\n",
    "df_february['time_15min'] = df_february['datetime'].dt.floor('15T')\n",
    "\n",
    "# 3. Группируем по 15-минутным интервалам\n",
    "df_february = df_february.groupby('time_15min').size()\n",
    "\n",
    "line_plot(df_february, label='Приход новых пользователей с группирвокой в каждые 15 минут', xlabel='Время')\n"
   ]
  },
  {
   "cell_type": "markdown",
   "id": "843379ac-aa76-433b-93d1-b6ca2d6df046",
   "metadata": {},
   "source": [
    "## Этап 2. Разделяем пользователей на постоянных и случайных"
   ]
  },
  {
   "cell_type": "code",
   "execution_count": 16,
   "id": "3fc09ef2-dbd0-4cf9-9051-749e25745240",
   "metadata": {},
   "outputs": [],
   "source": [
    "# Генерируем вероятность с нормальным распределением\n",
    "mean_prob = 0.25  # Средняя вероятность 25%\n",
    "std_dev = 0.10  # Стандартное отклонение 10%\n",
    "\n",
    "# Создаем столбец permanent_user\n",
    "df['permanent_user'] = np.random.normal(mean_prob, std_dev, size=len(df)) > np.random.rand(len(df))"
   ]
  },
  {
   "cell_type": "code",
   "execution_count": 17,
   "id": "a6340d96-7f06-458f-ade9-10d95e8ff41d",
   "metadata": {},
   "outputs": [
    {
     "data": {
      "text/plain": [
       "0.3307846498507977"
      ]
     },
     "execution_count": 17,
     "metadata": {},
     "output_type": "execute_result"
    }
   ],
   "source": [
    "df[df.permanent_user == True].shape[0] / df[df.permanent_user == False].shape[0]"
   ]
  },
  {
   "cell_type": "code",
   "execution_count": 18,
   "id": "64375e86-3e26-46db-9c34-89453dd53836",
   "metadata": {},
   "outputs": [
    {
     "name": "stdout",
     "output_type": "stream",
     "text": [
      "<class 'pandas.core.frame.DataFrame'>\n",
      "RangeIndex: 146723 entries, 0 to 146722\n",
      "Data columns (total 6 columns):\n",
      " #   Column          Non-Null Count   Dtype         \n",
      "---  ------          --------------   -----         \n",
      " 0   datetime        146723 non-null  datetime64[ns]\n",
      " 1   user_id         146723 non-null  int64         \n",
      " 2   action          146723 non-null  object        \n",
      " 3   type            146723 non-null  object        \n",
      " 4   first_visit     146723 non-null  datetime64[ns]\n",
      " 5   permanent_user  146723 non-null  bool          \n",
      "dtypes: bool(1), datetime64[ns](2), int64(1), object(2)\n",
      "memory usage: 5.7+ MB\n"
     ]
    }
   ],
   "source": [
    "df.info()"
   ]
  },
  {
   "cell_type": "code",
   "execution_count": 19,
   "id": "391f18b8-112f-4e6a-ad51-022933e3bab6",
   "metadata": {},
   "outputs": [
    {
     "data": {
      "text/html": [
       "<div>\n",
       "<style scoped>\n",
       "    .dataframe tbody tr th:only-of-type {\n",
       "        vertical-align: middle;\n",
       "    }\n",
       "\n",
       "    .dataframe tbody tr th {\n",
       "        vertical-align: top;\n",
       "    }\n",
       "\n",
       "    .dataframe thead th {\n",
       "        text-align: right;\n",
       "    }\n",
       "</style>\n",
       "<table border=\"1\" class=\"dataframe\">\n",
       "  <thead>\n",
       "    <tr style=\"text-align: right;\">\n",
       "      <th></th>\n",
       "      <th>datetime</th>\n",
       "      <th>user_id</th>\n",
       "      <th>action</th>\n",
       "      <th>type</th>\n",
       "      <th>first_visit</th>\n",
       "      <th>permanent_user</th>\n",
       "    </tr>\n",
       "  </thead>\n",
       "  <tbody>\n",
       "    <tr>\n",
       "      <th>0</th>\n",
       "      <td>2025-01-01 06:42:55.969633</td>\n",
       "      <td>1</td>\n",
       "      <td>view</td>\n",
       "      <td>main</td>\n",
       "      <td>2025-01-01 06:42:55.969633</td>\n",
       "      <td>True</td>\n",
       "    </tr>\n",
       "    <tr>\n",
       "      <th>1</th>\n",
       "      <td>2025-01-01 12:42:56.420493</td>\n",
       "      <td>2</td>\n",
       "      <td>view</td>\n",
       "      <td>main</td>\n",
       "      <td>2025-01-01 12:42:56.420493</td>\n",
       "      <td>False</td>\n",
       "    </tr>\n",
       "    <tr>\n",
       "      <th>2</th>\n",
       "      <td>2025-01-01 15:39:26.883273</td>\n",
       "      <td>3</td>\n",
       "      <td>view</td>\n",
       "      <td>main</td>\n",
       "      <td>2025-01-01 15:39:26.883273</td>\n",
       "      <td>False</td>\n",
       "    </tr>\n",
       "    <tr>\n",
       "      <th>3</th>\n",
       "      <td>2025-01-01 17:54:28.850977</td>\n",
       "      <td>4</td>\n",
       "      <td>view</td>\n",
       "      <td>main</td>\n",
       "      <td>2025-01-01 17:54:28.850977</td>\n",
       "      <td>False</td>\n",
       "    </tr>\n",
       "    <tr>\n",
       "      <th>4</th>\n",
       "      <td>2025-01-01 16:10:11.912295</td>\n",
       "      <td>5</td>\n",
       "      <td>view</td>\n",
       "      <td>main</td>\n",
       "      <td>2025-01-01 16:10:11.912295</td>\n",
       "      <td>False</td>\n",
       "    </tr>\n",
       "  </tbody>\n",
       "</table>\n",
       "</div>"
      ],
      "text/plain": [
       "                    datetime  user_id action  type                first_visit  \\\n",
       "0 2025-01-01 06:42:55.969633        1   view  main 2025-01-01 06:42:55.969633   \n",
       "1 2025-01-01 12:42:56.420493        2   view  main 2025-01-01 12:42:56.420493   \n",
       "2 2025-01-01 15:39:26.883273        3   view  main 2025-01-01 15:39:26.883273   \n",
       "3 2025-01-01 17:54:28.850977        4   view  main 2025-01-01 17:54:28.850977   \n",
       "4 2025-01-01 16:10:11.912295        5   view  main 2025-01-01 16:10:11.912295   \n",
       "\n",
       "   permanent_user  \n",
       "0            True  \n",
       "1           False  \n",
       "2           False  \n",
       "3           False  \n",
       "4           False  "
      ]
     },
     "execution_count": 19,
     "metadata": {},
     "output_type": "execute_result"
    }
   ],
   "source": [
    "df.head()"
   ]
  },
  {
   "cell_type": "markdown",
   "id": "1ef9b40d-873b-4ca2-ba18-921ace906618",
   "metadata": {},
   "source": [
    "## Этап 3. Рассчитаем для каждого дня количество визитов для постоянных пользователей"
   ]
  },
  {
   "cell_type": "code",
   "execution_count": 20,
   "id": "75c33282-fc47-4c4c-8a62-61c533d17a5a",
   "metadata": {},
   "outputs": [
    {
     "name": "stdout",
     "output_type": "stream",
     "text": [
      "CPU times: user 1.07 s, sys: 251 ms, total: 1.32 s\n",
      "Wall time: 1.06 s\n"
     ]
    },
    {
     "data": {
      "text/html": [
       "<div>\n",
       "<style scoped>\n",
       "    .dataframe tbody tr th:only-of-type {\n",
       "        vertical-align: middle;\n",
       "    }\n",
       "\n",
       "    .dataframe tbody tr th {\n",
       "        vertical-align: top;\n",
       "    }\n",
       "\n",
       "    .dataframe thead th {\n",
       "        text-align: right;\n",
       "    }\n",
       "</style>\n",
       "<table border=\"1\" class=\"dataframe\">\n",
       "  <thead>\n",
       "    <tr style=\"text-align: right;\">\n",
       "      <th></th>\n",
       "      <th>datetime</th>\n",
       "      <th>user_id</th>\n",
       "      <th>action</th>\n",
       "      <th>type</th>\n",
       "      <th>first_visit</th>\n",
       "      <th>permanent_user</th>\n",
       "    </tr>\n",
       "  </thead>\n",
       "  <tbody>\n",
       "    <tr>\n",
       "      <th>0</th>\n",
       "      <td>2025-01-01 00:00:00.000001</td>\n",
       "      <td>1</td>\n",
       "      <td>view</td>\n",
       "      <td>main</td>\n",
       "      <td>-1</td>\n",
       "      <td>True</td>\n",
       "    </tr>\n",
       "    <tr>\n",
       "      <th>1</th>\n",
       "      <td>2025-01-02 00:00:00.000001</td>\n",
       "      <td>1</td>\n",
       "      <td>view</td>\n",
       "      <td>main</td>\n",
       "      <td>-1</td>\n",
       "      <td>True</td>\n",
       "    </tr>\n",
       "    <tr>\n",
       "      <th>2</th>\n",
       "      <td>2025-01-03 00:00:00.000001</td>\n",
       "      <td>1</td>\n",
       "      <td>view</td>\n",
       "      <td>main</td>\n",
       "      <td>-1</td>\n",
       "      <td>True</td>\n",
       "    </tr>\n",
       "    <tr>\n",
       "      <th>3</th>\n",
       "      <td>2025-01-04 00:00:00.000001</td>\n",
       "      <td>1</td>\n",
       "      <td>view</td>\n",
       "      <td>main</td>\n",
       "      <td>-1</td>\n",
       "      <td>True</td>\n",
       "    </tr>\n",
       "    <tr>\n",
       "      <th>4</th>\n",
       "      <td>2025-01-05 00:00:00.000001</td>\n",
       "      <td>1</td>\n",
       "      <td>view</td>\n",
       "      <td>main</td>\n",
       "      <td>-1</td>\n",
       "      <td>True</td>\n",
       "    </tr>\n",
       "  </tbody>\n",
       "</table>\n",
       "</div>"
      ],
      "text/plain": [
       "                    datetime  user_id action  type first_visit  permanent_user\n",
       "0 2025-01-01 00:00:00.000001        1   view  main          -1            True\n",
       "1 2025-01-02 00:00:00.000001        1   view  main          -1            True\n",
       "2 2025-01-03 00:00:00.000001        1   view  main          -1            True\n",
       "3 2025-01-04 00:00:00.000001        1   view  main          -1            True\n",
       "4 2025-01-05 00:00:00.000001        1   view  main          -1            True"
      ]
     },
     "execution_count": 20,
     "metadata": {},
     "output_type": "execute_result"
    }
   ],
   "source": [
    "%%time\n",
    "\n",
    "permanent_users = df[df['permanent_user'] == True]  # Фильтруем постоянных пользователей\n",
    "\n",
    "# Даты для всех визитов (все уникальные даты из df)\n",
    "dates = pd.to_datetime(df['datetime'].dt.date.unique())\n",
    "\n",
    "# Получаем список всех user_id для постоянных пользователей\n",
    "user_ids = permanent_users['user_id'].values\n",
    "\n",
    "# Создаём массив всех дат и пользователей (по одной строке на каждый день для каждого постоянного пользователя)\n",
    "dates_repeated = np.tile(dates, len(user_ids))\n",
    "user_ids_repeated = np.repeat(user_ids, len(dates))\n",
    "\n",
    "\n",
    "# Векторизуем создание временных меток\n",
    "# Переводим даты в datetime, добавляем microseconds=1\n",
    "visit_times = pd.to_datetime(dates_repeated) + timedelta(microseconds=1)\n",
    "\n",
    "# Создаём DataFrame для добавления визитов\n",
    "df_permanent_visits = pd.DataFrame({\n",
    "    'datetime': visit_times,\n",
    "    'user_id': user_ids_repeated,\n",
    "    'action': 'view',\n",
    "    'type': 'main',\n",
    "    'first_visit': -1,\n",
    "    'permanent_user': True\n",
    "})\n",
    "\n",
    "\n",
    "\n",
    "# Проверка результата\n",
    "df_permanent_visits = pd.concat([df_permanent_visits, permanent_users])\n",
    "\n",
    "df_permanent_visits.head()"
   ]
  },
  {
   "cell_type": "code",
   "execution_count": 21,
   "id": "95769f50-8c69-49ce-b49a-6da71cf7711e",
   "metadata": {},
   "outputs": [
    {
     "name": "stdout",
     "output_type": "stream",
     "text": [
      "CPU times: user 846 ms, sys: 263 ms, total: 1.11 s\n",
      "Wall time: 1.13 s\n"
     ]
    },
    {
     "data": {
      "text/html": [
       "<div>\n",
       "<style scoped>\n",
       "    .dataframe tbody tr th:only-of-type {\n",
       "        vertical-align: middle;\n",
       "    }\n",
       "\n",
       "    .dataframe tbody tr th {\n",
       "        vertical-align: top;\n",
       "    }\n",
       "\n",
       "    .dataframe thead th {\n",
       "        text-align: right;\n",
       "    }\n",
       "</style>\n",
       "<table border=\"1\" class=\"dataframe\">\n",
       "  <thead>\n",
       "    <tr style=\"text-align: right;\">\n",
       "      <th></th>\n",
       "      <th>datetime</th>\n",
       "      <th>user_id</th>\n",
       "      <th>action</th>\n",
       "      <th>type</th>\n",
       "      <th>first_visit</th>\n",
       "      <th>permanent_user</th>\n",
       "      <th>first_visit_unique</th>\n",
       "    </tr>\n",
       "  </thead>\n",
       "  <tbody>\n",
       "    <tr>\n",
       "      <th>0</th>\n",
       "      <td>2025-01-01 00:00:00.000001</td>\n",
       "      <td>1</td>\n",
       "      <td>view</td>\n",
       "      <td>main</td>\n",
       "      <td>-1</td>\n",
       "      <td>True</td>\n",
       "      <td>2025-01-01 06:42:55.969633</td>\n",
       "    </tr>\n",
       "    <tr>\n",
       "      <th>1</th>\n",
       "      <td>2025-01-02 00:00:00.000001</td>\n",
       "      <td>1</td>\n",
       "      <td>view</td>\n",
       "      <td>main</td>\n",
       "      <td>-1</td>\n",
       "      <td>True</td>\n",
       "      <td>2025-01-01 06:42:55.969633</td>\n",
       "    </tr>\n",
       "    <tr>\n",
       "      <th>2</th>\n",
       "      <td>2025-01-03 00:00:00.000001</td>\n",
       "      <td>1</td>\n",
       "      <td>view</td>\n",
       "      <td>main</td>\n",
       "      <td>-1</td>\n",
       "      <td>True</td>\n",
       "      <td>2025-01-01 06:42:55.969633</td>\n",
       "    </tr>\n",
       "    <tr>\n",
       "      <th>3</th>\n",
       "      <td>2025-01-04 00:00:00.000001</td>\n",
       "      <td>1</td>\n",
       "      <td>view</td>\n",
       "      <td>main</td>\n",
       "      <td>-1</td>\n",
       "      <td>True</td>\n",
       "      <td>2025-01-01 06:42:55.969633</td>\n",
       "    </tr>\n",
       "    <tr>\n",
       "      <th>4</th>\n",
       "      <td>2025-01-05 00:00:00.000001</td>\n",
       "      <td>1</td>\n",
       "      <td>view</td>\n",
       "      <td>main</td>\n",
       "      <td>-1</td>\n",
       "      <td>True</td>\n",
       "      <td>2025-01-01 06:42:55.969633</td>\n",
       "    </tr>\n",
       "  </tbody>\n",
       "</table>\n",
       "</div>"
      ],
      "text/plain": [
       "                    datetime  user_id action  type first_visit  \\\n",
       "0 2025-01-01 00:00:00.000001        1   view  main          -1   \n",
       "1 2025-01-02 00:00:00.000001        1   view  main          -1   \n",
       "2 2025-01-03 00:00:00.000001        1   view  main          -1   \n",
       "3 2025-01-04 00:00:00.000001        1   view  main          -1   \n",
       "4 2025-01-05 00:00:00.000001        1   view  main          -1   \n",
       "\n",
       "   permanent_user         first_visit_unique  \n",
       "0            True 2025-01-01 06:42:55.969633  \n",
       "1            True 2025-01-01 06:42:55.969633  \n",
       "2            True 2025-01-01 06:42:55.969633  \n",
       "3            True 2025-01-01 06:42:55.969633  \n",
       "4            True 2025-01-01 06:42:55.969633  "
      ]
     },
     "execution_count": 21,
     "metadata": {},
     "output_type": "execute_result"
    }
   ],
   "source": [
    "%%time\n",
    "# Находим минимальную дату для каждого пользователя (дата начала пользования продуктом)\n",
    "first_visit_dates = permanent_users.groupby('user_id')['datetime'].min().reset_index()\n",
    "first_visit_dates\n",
    "\n",
    "# Переименовываем столбцы для последующего слияния\n",
    "first_visit_dates.columns = ['user_id', 'first_visit_unique']\n",
    "\n",
    "# Выполняем merge с оригинальным DataFrame\n",
    "data = df_permanent_visits.merge(first_visit_dates, on='user_id', how='left')\n",
    "data.head()"
   ]
  },
  {
   "cell_type": "code",
   "execution_count": 22,
   "id": "afc57024-08b4-47f6-b3a6-55a53e58b9a3",
   "metadata": {},
   "outputs": [
    {
     "data": {
      "text/html": [
       "<div>\n",
       "<style scoped>\n",
       "    .dataframe tbody tr th:only-of-type {\n",
       "        vertical-align: middle;\n",
       "    }\n",
       "\n",
       "    .dataframe tbody tr th {\n",
       "        vertical-align: top;\n",
       "    }\n",
       "\n",
       "    .dataframe thead th {\n",
       "        text-align: right;\n",
       "    }\n",
       "</style>\n",
       "<table border=\"1\" class=\"dataframe\">\n",
       "  <thead>\n",
       "    <tr style=\"text-align: right;\">\n",
       "      <th></th>\n",
       "      <th>datetime</th>\n",
       "      <th>user_id</th>\n",
       "      <th>action</th>\n",
       "      <th>type</th>\n",
       "      <th>permanent_user</th>\n",
       "      <th>first_visit_unique</th>\n",
       "    </tr>\n",
       "  </thead>\n",
       "  <tbody>\n",
       "    <tr>\n",
       "      <th>0</th>\n",
       "      <td>2025-01-01 05:59:17.086808</td>\n",
       "      <td>89</td>\n",
       "      <td>view</td>\n",
       "      <td>main</td>\n",
       "      <td>True</td>\n",
       "      <td>2025-01-01 05:59:17.086808</td>\n",
       "    </tr>\n",
       "    <tr>\n",
       "      <th>1</th>\n",
       "      <td>2025-01-01 06:02:31.030320</td>\n",
       "      <td>92</td>\n",
       "      <td>view</td>\n",
       "      <td>main</td>\n",
       "      <td>True</td>\n",
       "      <td>2025-01-01 06:02:31.030320</td>\n",
       "    </tr>\n",
       "    <tr>\n",
       "      <th>2</th>\n",
       "      <td>2025-01-01 06:05:17.580313</td>\n",
       "      <td>20</td>\n",
       "      <td>view</td>\n",
       "      <td>main</td>\n",
       "      <td>True</td>\n",
       "      <td>2025-01-01 06:05:17.580313</td>\n",
       "    </tr>\n",
       "    <tr>\n",
       "      <th>3</th>\n",
       "      <td>2025-01-01 06:42:55.969633</td>\n",
       "      <td>1</td>\n",
       "      <td>view</td>\n",
       "      <td>main</td>\n",
       "      <td>True</td>\n",
       "      <td>2025-01-01 06:42:55.969633</td>\n",
       "    </tr>\n",
       "    <tr>\n",
       "      <th>4</th>\n",
       "      <td>2025-01-01 06:54:25.890243</td>\n",
       "      <td>13</td>\n",
       "      <td>view</td>\n",
       "      <td>main</td>\n",
       "      <td>True</td>\n",
       "      <td>2025-01-01 06:54:25.890243</td>\n",
       "    </tr>\n",
       "  </tbody>\n",
       "</table>\n",
       "</div>"
      ],
      "text/plain": [
       "                    datetime  user_id action  type  permanent_user  \\\n",
       "0 2025-01-01 05:59:17.086808       89   view  main            True   \n",
       "1 2025-01-01 06:02:31.030320       92   view  main            True   \n",
       "2 2025-01-01 06:05:17.580313       20   view  main            True   \n",
       "3 2025-01-01 06:42:55.969633        1   view  main            True   \n",
       "4 2025-01-01 06:54:25.890243       13   view  main            True   \n",
       "\n",
       "          first_visit_unique  \n",
       "0 2025-01-01 05:59:17.086808  \n",
       "1 2025-01-01 06:02:31.030320  \n",
       "2 2025-01-01 06:05:17.580313  \n",
       "3 2025-01-01 06:42:55.969633  \n",
       "4 2025-01-01 06:54:25.890243  "
      ]
     },
     "execution_count": 22,
     "metadata": {},
     "output_type": "execute_result"
    }
   ],
   "source": [
    "# Оставляем только строки, где datetime >= first_visit\n",
    "data = data[data['datetime'] >= data['first_visit_unique']]\n",
    "data = data.sort_values(by=['datetime', 'user_id'])\n",
    "\n",
    "data = data.reset_index()\n",
    "data = data.drop(['first_visit', 'index'\t], axis=1)\n",
    "# Проверка результата\n",
    "data.head()"
   ]
  },
  {
   "cell_type": "markdown",
   "id": "974e7226-e684-4666-9cf2-740aba43c231",
   "metadata": {},
   "source": [
    "#### На данном этапе имеем датафрейм \n",
    "где для каждого постоянного пользователя начиная с первого дня его посещения есть запись,\n",
    "\n",
    "куда далее мы добавим количество просмотров в этот день\n",
    "\n",
    "\n",
    "Характеристики распредления заданы в начале ноутбука и одинаковы для каждого постоянного пользователя"
   ]
  },
  {
   "cell_type": "code",
   "execution_count": 23,
   "id": "9d310518-d5e6-4e15-9959-161bd1fb729d",
   "metadata": {},
   "outputs": [
    {
     "data": {
      "text/html": [
       "<div>\n",
       "<style scoped>\n",
       "    .dataframe tbody tr th:only-of-type {\n",
       "        vertical-align: middle;\n",
       "    }\n",
       "\n",
       "    .dataframe tbody tr th {\n",
       "        vertical-align: top;\n",
       "    }\n",
       "\n",
       "    .dataframe thead th {\n",
       "        text-align: right;\n",
       "    }\n",
       "</style>\n",
       "<table border=\"1\" class=\"dataframe\">\n",
       "  <thead>\n",
       "    <tr style=\"text-align: right;\">\n",
       "      <th></th>\n",
       "      <th>datetime</th>\n",
       "      <th>user_id</th>\n",
       "      <th>action</th>\n",
       "      <th>type</th>\n",
       "      <th>permanent_user</th>\n",
       "      <th>first_visit_unique</th>\n",
       "      <th>visits_per_day</th>\n",
       "    </tr>\n",
       "  </thead>\n",
       "  <tbody>\n",
       "    <tr>\n",
       "      <th>0</th>\n",
       "      <td>2025-01-01 05:59:17.086808</td>\n",
       "      <td>89</td>\n",
       "      <td>view</td>\n",
       "      <td>main</td>\n",
       "      <td>True</td>\n",
       "      <td>2025-01-01 05:59:17.086808</td>\n",
       "      <td>17</td>\n",
       "    </tr>\n",
       "    <tr>\n",
       "      <th>1</th>\n",
       "      <td>2025-01-01 06:02:31.030320</td>\n",
       "      <td>92</td>\n",
       "      <td>view</td>\n",
       "      <td>main</td>\n",
       "      <td>True</td>\n",
       "      <td>2025-01-01 06:02:31.030320</td>\n",
       "      <td>12</td>\n",
       "    </tr>\n",
       "    <tr>\n",
       "      <th>2</th>\n",
       "      <td>2025-01-01 06:05:17.580313</td>\n",
       "      <td>20</td>\n",
       "      <td>view</td>\n",
       "      <td>main</td>\n",
       "      <td>True</td>\n",
       "      <td>2025-01-01 06:05:17.580313</td>\n",
       "      <td>2</td>\n",
       "    </tr>\n",
       "    <tr>\n",
       "      <th>3</th>\n",
       "      <td>2025-01-01 06:42:55.969633</td>\n",
       "      <td>1</td>\n",
       "      <td>view</td>\n",
       "      <td>main</td>\n",
       "      <td>True</td>\n",
       "      <td>2025-01-01 06:42:55.969633</td>\n",
       "      <td>16</td>\n",
       "    </tr>\n",
       "    <tr>\n",
       "      <th>4</th>\n",
       "      <td>2025-01-01 06:54:25.890243</td>\n",
       "      <td>13</td>\n",
       "      <td>view</td>\n",
       "      <td>main</td>\n",
       "      <td>True</td>\n",
       "      <td>2025-01-01 06:54:25.890243</td>\n",
       "      <td>10</td>\n",
       "    </tr>\n",
       "  </tbody>\n",
       "</table>\n",
       "</div>"
      ],
      "text/plain": [
       "                    datetime  user_id action  type  permanent_user  \\\n",
       "0 2025-01-01 05:59:17.086808       89   view  main            True   \n",
       "1 2025-01-01 06:02:31.030320       92   view  main            True   \n",
       "2 2025-01-01 06:05:17.580313       20   view  main            True   \n",
       "3 2025-01-01 06:42:55.969633        1   view  main            True   \n",
       "4 2025-01-01 06:54:25.890243       13   view  main            True   \n",
       "\n",
       "          first_visit_unique  visits_per_day  \n",
       "0 2025-01-01 05:59:17.086808              17  \n",
       "1 2025-01-01 06:02:31.030320              12  \n",
       "2 2025-01-01 06:05:17.580313               2  \n",
       "3 2025-01-01 06:42:55.969633              16  \n",
       "4 2025-01-01 06:54:25.890243              10  "
      ]
     },
     "execution_count": 23,
     "metadata": {},
     "output_type": "execute_result"
    }
   ],
   "source": [
    "# Генерируем серию случайных чисел для каждой строки в DataFrame\n",
    "# Характеристики распредления заданы в начале ноутбука и одинаковы для каждого постоянного пользователя\n",
    "\n",
    "visits_per_day_series = np.random.normal(mean_visits_per_day, std_visits_per_day, size=len(data))\n",
    "# Округляем значения, чтобы количество визитов было целым числом\n",
    "visits_per_day_series = visits_per_day_series.round().astype(int)\n",
    "\n",
    "# Добавляем эту серию в исходный DataFrame\n",
    "data['visits_per_day'] = visits_per_day_series\n",
    "\n",
    "data = data[data['visits_per_day'] > 0]\n",
    "\n",
    "# Проверка результата\n",
    "data.head()"
   ]
  },
  {
   "cell_type": "code",
   "execution_count": 24,
   "id": "13e82190-7723-4490-9ee6-135c8ecb9aa8",
   "metadata": {},
   "outputs": [
    {
     "name": "stdout",
     "output_type": "stream",
     "text": [
      "<class 'pandas.core.frame.DataFrame'>\n",
      "Index: 6077144 entries, 0 to 6081290\n",
      "Data columns (total 7 columns):\n",
      " #   Column              Dtype         \n",
      "---  ------              -----         \n",
      " 0   datetime            datetime64[ns]\n",
      " 1   user_id             int64         \n",
      " 2   action              object        \n",
      " 3   type                object        \n",
      " 4   permanent_user      bool          \n",
      " 5   first_visit_unique  datetime64[ns]\n",
      " 6   visits_per_day      int64         \n",
      "dtypes: bool(1), datetime64[ns](2), int64(2), object(2)\n",
      "memory usage: 330.4+ MB\n"
     ]
    }
   ],
   "source": [
    "data.info()"
   ]
  },
  {
   "cell_type": "code",
   "execution_count": 25,
   "id": "a95850f4-e447-4564-bd43-e86cf4d8a9d1",
   "metadata": {},
   "outputs": [
    {
     "data": {
      "text/plain": [
       "72968952"
      ]
     },
     "execution_count": 25,
     "metadata": {},
     "output_type": "execute_result"
    }
   ],
   "source": [
    "data['visits_per_day'].sum()"
   ]
  },
  {
   "cell_type": "markdown",
   "id": "5499a9f7-cda0-494e-aaae-893b0a57f305",
   "metadata": {},
   "source": [
    "#### На данном этапе имеем ~ 6 млн записей group user-day\n",
    "\n",
    "##### Общее количество строк при генерации визитов для постоянных пользователей будет ~ 74 млн\n",
    "##### В связи с чем принимаем решение генерить визиты на стадии подгрузки в БД в рамках ETL"
   ]
  },
  {
   "cell_type": "markdown",
   "id": "68826694-131e-40e7-9920-21f7993f9a2d",
   "metadata": {},
   "source": [
    "### Преподготовим данные для загрузки в БД \n",
    "- удаляем столбцы, которые мы не можем знать при реальном функционировании продукта (permanent_user)\n",
    "- не смотря на то, что first_visit_unique можно всегда получить из БД простым запросом, мы оставляем данный столбец, так как он нужен нам в дальнейшем для генерации построчных посещений\n",
    "- добавляем новый столбец group, значение которого будем менять при АБ тестировании (1 группа будет всегда контрольной)"
   ]
  },
  {
   "cell_type": "code",
   "execution_count": 26,
   "id": "de90f12b-c3ec-428a-b99a-c9b394bddc89",
   "metadata": {},
   "outputs": [
    {
     "data": {
      "text/html": [
       "<div>\n",
       "<style scoped>\n",
       "    .dataframe tbody tr th:only-of-type {\n",
       "        vertical-align: middle;\n",
       "    }\n",
       "\n",
       "    .dataframe tbody tr th {\n",
       "        vertical-align: top;\n",
       "    }\n",
       "\n",
       "    .dataframe thead th {\n",
       "        text-align: right;\n",
       "    }\n",
       "</style>\n",
       "<table border=\"1\" class=\"dataframe\">\n",
       "  <thead>\n",
       "    <tr style=\"text-align: right;\">\n",
       "      <th></th>\n",
       "      <th>datetime</th>\n",
       "      <th>user_id</th>\n",
       "      <th>action</th>\n",
       "      <th>type</th>\n",
       "      <th>first_visit_unique</th>\n",
       "      <th>visits_per_day</th>\n",
       "      <th>group</th>\n",
       "    </tr>\n",
       "  </thead>\n",
       "  <tbody>\n",
       "    <tr>\n",
       "      <th>0</th>\n",
       "      <td>2025-01-01 05:59:17.086808</td>\n",
       "      <td>89</td>\n",
       "      <td>view</td>\n",
       "      <td>main</td>\n",
       "      <td>2025-01-01 05:59:17.086808</td>\n",
       "      <td>17</td>\n",
       "      <td>1</td>\n",
       "    </tr>\n",
       "    <tr>\n",
       "      <th>1</th>\n",
       "      <td>2025-01-01 06:02:31.030320</td>\n",
       "      <td>92</td>\n",
       "      <td>view</td>\n",
       "      <td>main</td>\n",
       "      <td>2025-01-01 06:02:31.030320</td>\n",
       "      <td>12</td>\n",
       "      <td>1</td>\n",
       "    </tr>\n",
       "    <tr>\n",
       "      <th>2</th>\n",
       "      <td>2025-01-01 06:05:17.580313</td>\n",
       "      <td>20</td>\n",
       "      <td>view</td>\n",
       "      <td>main</td>\n",
       "      <td>2025-01-01 06:05:17.580313</td>\n",
       "      <td>2</td>\n",
       "      <td>1</td>\n",
       "    </tr>\n",
       "    <tr>\n",
       "      <th>3</th>\n",
       "      <td>2025-01-01 06:42:55.969633</td>\n",
       "      <td>1</td>\n",
       "      <td>view</td>\n",
       "      <td>main</td>\n",
       "      <td>2025-01-01 06:42:55.969633</td>\n",
       "      <td>16</td>\n",
       "      <td>1</td>\n",
       "    </tr>\n",
       "    <tr>\n",
       "      <th>4</th>\n",
       "      <td>2025-01-01 06:54:25.890243</td>\n",
       "      <td>13</td>\n",
       "      <td>view</td>\n",
       "      <td>main</td>\n",
       "      <td>2025-01-01 06:54:25.890243</td>\n",
       "      <td>10</td>\n",
       "      <td>1</td>\n",
       "    </tr>\n",
       "  </tbody>\n",
       "</table>\n",
       "</div>"
      ],
      "text/plain": [
       "                    datetime  user_id action  type         first_visit_unique  \\\n",
       "0 2025-01-01 05:59:17.086808       89   view  main 2025-01-01 05:59:17.086808   \n",
       "1 2025-01-01 06:02:31.030320       92   view  main 2025-01-01 06:02:31.030320   \n",
       "2 2025-01-01 06:05:17.580313       20   view  main 2025-01-01 06:05:17.580313   \n",
       "3 2025-01-01 06:42:55.969633        1   view  main 2025-01-01 06:42:55.969633   \n",
       "4 2025-01-01 06:54:25.890243       13   view  main 2025-01-01 06:54:25.890243   \n",
       "\n",
       "   visits_per_day  group  \n",
       "0              17      1  \n",
       "1              12      1  \n",
       "2               2      1  \n",
       "3              16      1  \n",
       "4              10      1  "
      ]
     },
     "execution_count": 26,
     "metadata": {},
     "output_type": "execute_result"
    }
   ],
   "source": [
    "data['group'] = 1\n",
    "data = data.drop('permanent_user', axis=1)\n",
    "\n",
    "data.head()"
   ]
  },
  {
   "cell_type": "code",
   "execution_count": 27,
   "id": "be736cea-222d-4f4e-8847-1a57b40e4ccd",
   "metadata": {},
   "outputs": [],
   "source": [
    "# сохраним данные в виде csv файла\n",
    "data.to_csv('permanent_users.csv', index=False)"
   ]
  },
  {
   "cell_type": "markdown",
   "id": "0c3357dd-0164-4291-9b12-6a5292dde8d5",
   "metadata": {},
   "source": [
    "### В качестве проверки возможности дальнейшего использования \n",
    "создадим на end_date записи по каждому посещению для всех пользователей,активных в данную дату"
   ]
  },
  {
   "cell_type": "code",
   "execution_count": 28,
   "id": "3112d5c1-ed8f-4613-aa1f-7bba4a01943c",
   "metadata": {},
   "outputs": [
    {
     "data": {
      "text/html": [
       "<div>\n",
       "<style scoped>\n",
       "    .dataframe tbody tr th:only-of-type {\n",
       "        vertical-align: middle;\n",
       "    }\n",
       "\n",
       "    .dataframe tbody tr th {\n",
       "        vertical-align: top;\n",
       "    }\n",
       "\n",
       "    .dataframe thead th {\n",
       "        text-align: right;\n",
       "    }\n",
       "</style>\n",
       "<table border=\"1\" class=\"dataframe\">\n",
       "  <thead>\n",
       "    <tr style=\"text-align: right;\">\n",
       "      <th></th>\n",
       "      <th>datetime</th>\n",
       "      <th>user_id</th>\n",
       "      <th>action</th>\n",
       "      <th>type</th>\n",
       "    </tr>\n",
       "  </thead>\n",
       "  <tbody>\n",
       "    <tr>\n",
       "      <th>0</th>\n",
       "      <td>2025-12-31 07:41:21.459729</td>\n",
       "      <td>1</td>\n",
       "      <td>view</td>\n",
       "      <td>main</td>\n",
       "    </tr>\n",
       "    <tr>\n",
       "      <th>1</th>\n",
       "      <td>2025-12-31 08:14:35.092358</td>\n",
       "      <td>1</td>\n",
       "      <td>view</td>\n",
       "      <td>main</td>\n",
       "    </tr>\n",
       "    <tr>\n",
       "      <th>2</th>\n",
       "      <td>2025-12-31 23:25:00.000000</td>\n",
       "      <td>1</td>\n",
       "      <td>view</td>\n",
       "      <td>main</td>\n",
       "    </tr>\n",
       "    <tr>\n",
       "      <th>3</th>\n",
       "      <td>2025-12-31 19:24:45.901962</td>\n",
       "      <td>1</td>\n",
       "      <td>view</td>\n",
       "      <td>main</td>\n",
       "    </tr>\n",
       "    <tr>\n",
       "      <th>4</th>\n",
       "      <td>2025-12-31 10:52:09.723414</td>\n",
       "      <td>1</td>\n",
       "      <td>view</td>\n",
       "      <td>main</td>\n",
       "    </tr>\n",
       "  </tbody>\n",
       "</table>\n",
       "</div>"
      ],
      "text/plain": [
       "                    datetime  user_id action  type\n",
       "0 2025-12-31 07:41:21.459729        1   view  main\n",
       "1 2025-12-31 08:14:35.092358        1   view  main\n",
       "2 2025-12-31 23:25:00.000000        1   view  main\n",
       "3 2025-12-31 19:24:45.901962        1   view  main\n",
       "4 2025-12-31 10:52:09.723414        1   view  main"
      ]
     },
     "metadata": {},
     "output_type": "display_data"
    },
    {
     "name": "stdout",
     "output_type": "stream",
     "text": [
      "<class 'pandas.core.frame.DataFrame'>\n",
      "Index: 389171 entries, 0 to 389741\n",
      "Data columns (total 4 columns):\n",
      " #   Column    Non-Null Count   Dtype         \n",
      "---  ------    --------------   -----         \n",
      " 0   datetime  389171 non-null  datetime64[ns]\n",
      " 1   user_id   389171 non-null  int64         \n",
      " 2   action    389171 non-null  object        \n",
      " 3   type      389171 non-null  object        \n",
      "dtypes: datetime64[ns](1), int64(1), object(2)\n",
      "memory usage: 14.8+ MB\n"
     ]
    },
    {
     "data": {
      "text/plain": [
       "None"
      ]
     },
     "metadata": {},
     "output_type": "display_data"
    },
    {
     "name": "stdout",
     "output_type": "stream",
     "text": [
      "CPU times: user 2.53 s, sys: 94.7 ms, total: 2.62 s\n",
      "Wall time: 2.66 s\n"
     ]
    }
   ],
   "source": [
    "%%time\n",
    "\n",
    "target_date  = '2025-12-31'  # формат даты, который мы сможем впоследствии получить в даге airflow через контекст\n",
    "res = create_visit_lines(data, target_date)\n",
    "display(res.head())\n",
    "display(res.info())"
   ]
  },
  {
   "cell_type": "code",
   "execution_count": 29,
   "id": "9c8a987f-eaec-4175-b1c5-c88eb76cbe12",
   "metadata": {},
   "outputs": [
    {
     "data": {
      "text/html": [
       "<div>\n",
       "<style scoped>\n",
       "    .dataframe tbody tr th:only-of-type {\n",
       "        vertical-align: middle;\n",
       "    }\n",
       "\n",
       "    .dataframe tbody tr th {\n",
       "        vertical-align: top;\n",
       "    }\n",
       "\n",
       "    .dataframe thead th {\n",
       "        text-align: right;\n",
       "    }\n",
       "</style>\n",
       "<table border=\"1\" class=\"dataframe\">\n",
       "  <thead>\n",
       "    <tr style=\"text-align: right;\">\n",
       "      <th></th>\n",
       "      <th>datetime</th>\n",
       "      <th>user_id</th>\n",
       "      <th>action</th>\n",
       "      <th>type</th>\n",
       "    </tr>\n",
       "  </thead>\n",
       "  <tbody>\n",
       "  </tbody>\n",
       "</table>\n",
       "</div>"
      ],
      "text/plain": [
       "Empty DataFrame\n",
       "Columns: [datetime, user_id, action, type]\n",
       "Index: []"
      ]
     },
     "execution_count": 29,
     "metadata": {},
     "output_type": "execute_result"
    }
   ],
   "source": [
    "res[res['datetime'].dt.time == time(0, 0, 0, 1)] # проверим что функция отработала верно и не осталось данных со значениями 00:00:00.000001"
   ]
  },
  {
   "cell_type": "markdown",
   "id": "e56f2ca7-e765-4e0e-ae13-40bf57bda348",
   "metadata": {},
   "source": [
    "#### Функция генерации построковых посещений работает и работает за разумное время\n",
    "\n",
    "#### Посмотрим на получившиеся данные визуально"
   ]
  },
  {
   "cell_type": "code",
   "execution_count": 30,
   "id": "9cbd1d3d-f5d6-4e3c-a838-f24383426fe7",
   "metadata": {},
   "outputs": [
    {
     "data": {
      "image/png": "[encoded data removed]",
      "text/plain": [
       "<Figure size 1200x300 with 1 Axes>"
      ]
     },
     "metadata": {},
     "output_type": "display_data"
    }
   ],
   "source": [
    "# Округляем время до 1-минутных интервалов\n",
    "res['time_one_min'] = res['datetime'].dt.floor('1T')\n",
    "\n",
    "# Группируем по 15-минутным интервалам\n",
    "visits_one_min = res.groupby('time_one_min').size()\n",
    "\n",
    "line_plot(visits_one_min, label='Посещаемость каждые 15 минут '+ target_date, xlabel='Время')"
   ]
  },
  {
   "cell_type": "markdown",
   "id": "ea99ddf1-6ecc-4d6e-b856-fe54e2cd00d2",
   "metadata": {},
   "source": [
    "## Этап 4. Рассчитаем для каждого дня количество визитов для непостоянных пользователей"
   ]
  },
  {
   "cell_type": "markdown",
   "id": "75478271-f70c-41de-be02-973ec1a002d5",
   "metadata": {},
   "source": [
    "#### Расчет здесь более сложный, так как у каждого пользователя своя длительность жизни в рамках продукта, \n",
    "в связи с чем невозмонжо полностью векторизовать расчет количества дневных посещений в связи с чем генерация данных будет существенно более длительной"
   ]
  },
  {
   "cell_type": "code",
   "execution_count": 31,
   "id": "5693ed5a-abb3-4a4c-8838-40593e10bed1",
   "metadata": {},
   "outputs": [
    {
     "name": "stdout",
     "output_type": "stream",
     "text": [
      "CPU times: user 43.1 ms, sys: 3.71 ms, total: 46.8 ms\n",
      "Wall time: 16.2 ms\n"
     ]
    },
    {
     "data": {
      "text/html": [
       "<div>\n",
       "<style scoped>\n",
       "    .dataframe tbody tr th:only-of-type {\n",
       "        vertical-align: middle;\n",
       "    }\n",
       "\n",
       "    .dataframe tbody tr th {\n",
       "        vertical-align: top;\n",
       "    }\n",
       "\n",
       "    .dataframe thead th {\n",
       "        text-align: right;\n",
       "    }\n",
       "</style>\n",
       "<table border=\"1\" class=\"dataframe\">\n",
       "  <thead>\n",
       "    <tr style=\"text-align: right;\">\n",
       "      <th></th>\n",
       "      <th>user_id</th>\n",
       "      <th>first_visit_unique</th>\n",
       "      <th>exit_day</th>\n",
       "    </tr>\n",
       "  </thead>\n",
       "  <tbody>\n",
       "    <tr>\n",
       "      <th>0</th>\n",
       "      <td>2</td>\n",
       "      <td>2025-01-01 12:42:56.420493</td>\n",
       "      <td>2025-01-16 12:42:56.420493</td>\n",
       "    </tr>\n",
       "    <tr>\n",
       "      <th>1</th>\n",
       "      <td>3</td>\n",
       "      <td>2025-01-01 15:39:26.883273</td>\n",
       "      <td>2025-01-13 15:39:26.883273</td>\n",
       "    </tr>\n",
       "    <tr>\n",
       "      <th>2</th>\n",
       "      <td>4</td>\n",
       "      <td>2025-01-01 17:54:28.850977</td>\n",
       "      <td>2025-01-06 17:54:28.850977</td>\n",
       "    </tr>\n",
       "    <tr>\n",
       "      <th>3</th>\n",
       "      <td>5</td>\n",
       "      <td>2025-01-01 16:10:11.912295</td>\n",
       "      <td>2025-01-11 16:10:11.912295</td>\n",
       "    </tr>\n",
       "    <tr>\n",
       "      <th>4</th>\n",
       "      <td>8</td>\n",
       "      <td>2025-01-01 10:28:17.261680</td>\n",
       "      <td>2025-01-16 10:28:17.261680</td>\n",
       "    </tr>\n",
       "  </tbody>\n",
       "</table>\n",
       "</div>"
      ],
      "text/plain": [
       "   user_id         first_visit_unique                   exit_day\n",
       "0        2 2025-01-01 12:42:56.420493 2025-01-16 12:42:56.420493\n",
       "1        3 2025-01-01 15:39:26.883273 2025-01-13 15:39:26.883273\n",
       "2        4 2025-01-01 17:54:28.850977 2025-01-06 17:54:28.850977\n",
       "3        5 2025-01-01 16:10:11.912295 2025-01-11 16:10:11.912295\n",
       "4        8 2025-01-01 10:28:17.261680 2025-01-16 10:28:17.261680"
      ]
     },
     "execution_count": 31,
     "metadata": {},
     "output_type": "execute_result"
    }
   ],
   "source": [
    "%%time\n",
    "\n",
    "# Фильтруем непостоянных пользователей\n",
    "non_permanent_users = df[df['permanent_user'] != True]\n",
    "\n",
    "\n",
    "#Определяем `first_visit_unique` для каждого пользователя\n",
    "first_visit_dates = non_permanent_users.groupby('user_id')[\"datetime\"].min().reset_index()\n",
    "first_visit_dates.columns = ['user_id', 'first_visit_unique']\n",
    "\n",
    "\n",
    "exit_days = np.random.normal(loc=lt, scale=std_lt, size=len(first_visit_dates)) \n",
    "\n",
    "# Применяем для каждого пользователя: `exit_day = first_visit_unique + случайное число дней`\n",
    "first_visit_dates['exit_day'] = first_visit_dates['first_visit_unique'] + pd.to_timedelta(exit_days.astype(int), unit='D')\n",
    "first_visit_dates.head()"
   ]
  },
  {
   "cell_type": "code",
   "execution_count": 32,
   "id": "e3903bb5-1ec1-455c-9047-76dfa40a5932",
   "metadata": {},
   "outputs": [
    {
     "name": "stderr",
     "output_type": "stream",
     "text": [
      "Generating visit qty: 100%|█████████████████████████████████████████████████████████████████████████████████████████████| 110253/110253 [00:32<00:00, 3359.05it/s]\n"
     ]
    },
    {
     "name": "stdout",
     "output_type": "stream",
     "text": [
      "CPU times: user 38.3 s, sys: 1.1 s, total: 39.4 s\n",
      "Wall time: 38.9 s\n"
     ]
    },
    {
     "data": {
      "text/html": [
       "<div>\n",
       "<style scoped>\n",
       "    .dataframe tbody tr th:only-of-type {\n",
       "        vertical-align: middle;\n",
       "    }\n",
       "\n",
       "    .dataframe tbody tr th {\n",
       "        vertical-align: top;\n",
       "    }\n",
       "\n",
       "    .dataframe thead th {\n",
       "        text-align: right;\n",
       "    }\n",
       "</style>\n",
       "<table border=\"1\" class=\"dataframe\">\n",
       "  <thead>\n",
       "    <tr style=\"text-align: right;\">\n",
       "      <th></th>\n",
       "      <th>datetime</th>\n",
       "      <th>user_id</th>\n",
       "      <th>action</th>\n",
       "      <th>type</th>\n",
       "      <th>first_visit_unique</th>\n",
       "      <th>permanent_user</th>\n",
       "      <th>visits_per_day</th>\n",
       "    </tr>\n",
       "  </thead>\n",
       "  <tbody>\n",
       "    <tr>\n",
       "      <th>0</th>\n",
       "      <td>2025-01-01 00:00:00.000001</td>\n",
       "      <td>2</td>\n",
       "      <td>view</td>\n",
       "      <td>main</td>\n",
       "      <td>2025-01-01 12:42:56.420493</td>\n",
       "      <td>False</td>\n",
       "      <td>15.6</td>\n",
       "    </tr>\n",
       "    <tr>\n",
       "      <th>1</th>\n",
       "      <td>2025-01-02 00:00:00.000001</td>\n",
       "      <td>2</td>\n",
       "      <td>view</td>\n",
       "      <td>main</td>\n",
       "      <td>2025-01-01 12:42:56.420493</td>\n",
       "      <td>False</td>\n",
       "      <td>1.0</td>\n",
       "    </tr>\n",
       "    <tr>\n",
       "      <th>2</th>\n",
       "      <td>2025-01-03 00:00:00.000001</td>\n",
       "      <td>2</td>\n",
       "      <td>view</td>\n",
       "      <td>main</td>\n",
       "      <td>2025-01-01 12:42:56.420493</td>\n",
       "      <td>False</td>\n",
       "      <td>15.6</td>\n",
       "    </tr>\n",
       "    <tr>\n",
       "      <th>3</th>\n",
       "      <td>2025-01-04 00:00:00.000001</td>\n",
       "      <td>2</td>\n",
       "      <td>view</td>\n",
       "      <td>main</td>\n",
       "      <td>2025-01-01 12:42:56.420493</td>\n",
       "      <td>False</td>\n",
       "      <td>3.0</td>\n",
       "    </tr>\n",
       "    <tr>\n",
       "      <th>4</th>\n",
       "      <td>2025-01-05 00:00:00.000001</td>\n",
       "      <td>2</td>\n",
       "      <td>view</td>\n",
       "      <td>main</td>\n",
       "      <td>2025-01-01 12:42:56.420493</td>\n",
       "      <td>False</td>\n",
       "      <td>15.6</td>\n",
       "    </tr>\n",
       "  </tbody>\n",
       "</table>\n",
       "</div>"
      ],
      "text/plain": [
       "                    datetime  user_id action  type         first_visit_unique  \\\n",
       "0 2025-01-01 00:00:00.000001        2   view  main 2025-01-01 12:42:56.420493   \n",
       "1 2025-01-02 00:00:00.000001        2   view  main 2025-01-01 12:42:56.420493   \n",
       "2 2025-01-03 00:00:00.000001        2   view  main 2025-01-01 12:42:56.420493   \n",
       "3 2025-01-04 00:00:00.000001        2   view  main 2025-01-01 12:42:56.420493   \n",
       "4 2025-01-05 00:00:00.000001        2   view  main 2025-01-01 12:42:56.420493   \n",
       "\n",
       "   permanent_user  visits_per_day  \n",
       "0           False            15.6  \n",
       "1           False             1.0  \n",
       "2           False            15.6  \n",
       "3           False             3.0  \n",
       "4           False            15.6  "
      ]
     },
     "execution_count": 32,
     "metadata": {},
     "output_type": "execute_result"
    }
   ],
   "source": [
    "%%time\n",
    "\n",
    "# Создадим список для хранения датафреймов по каждому пользователю\n",
    "dfs = []\n",
    "\n",
    "for _, row in tqdm(first_visit_dates.iterrows(), total=first_visit_dates.shape[0], desc='Generating visit qty'):\n",
    "    user_id = row['user_id']\n",
    "    first_visit = row['first_visit_unique']\n",
    "    exit_day = row['exit_day']\n",
    "    \n",
    "    # Генерация всех дат от first_visit до exit_day\n",
    "    dates = pd.date_range(start=first_visit, end=exit_day, freq='D')\n",
    "\n",
    "    # # Генерация количества визитов для каждой даты по логнормальному распределению\n",
    "    # visits_per_day = np.random.lognormal(mean=np.log(mean_visits_per_day_log), sigma=std_visits_per_day_log, size=len(dates)).astype(int)\n",
    "\n",
    "\n",
    "    # Генерация количества визитов для каждой даты по логнормальному распределению\n",
    "    visits_per_day = np.random.lognormal(mean=np.log(mean_visits_per_day_log), sigma=std_visits_per_day_log, size=len(dates)).astype(int)\n",
    "    \n",
    "    # Ограничиваем диапазон значений\n",
    "    visits_per_day = np.clip(visits_per_day, 1, mean_visits_per_day * 1.3)  # Ограничение сверху\n",
    "    \n",
    "    # Создаем мини-датафрейм для текущего пользователя\n",
    "    user_df = pd.DataFrame({\n",
    "        'datetime': [datetime.combine(date, datetime.min.time()) + timedelta(microseconds=1) for date in dates],\n",
    "        'user_id': user_id,\n",
    "        'action': 'view',\n",
    "        'type': 'main',\n",
    "        'first_visit_unique': first_visit,\n",
    "        'permanent_user': False,\n",
    "        'visits_per_day': visits_per_day\n",
    "    })\n",
    "\n",
    "    # Добавляем мини-датафрейм в список\n",
    "    dfs.append(user_df)\n",
    "\n",
    "# Объединяем все мини-датафреймы в один\n",
    "df_visit_times = pd.concat(dfs, ignore_index=True)\n",
    "\n",
    "# Проверяем результат\n",
    "df_visit_times.head()"
   ]
  },
  {
   "cell_type": "code",
   "execution_count": 33,
   "id": "ee949179-75ce-4696-ba50-7d80fc35cff2",
   "metadata": {},
   "outputs": [
    {
     "data": {
      "text/plain": [
       "15082574.200000005"
      ]
     },
     "execution_count": 33,
     "metadata": {},
     "output_type": "execute_result"
    }
   ],
   "source": [
    "df_visit_times['visits_per_day'].sum()"
   ]
  },
  {
   "cell_type": "markdown",
   "id": "0b094de1-b418-4673-8efc-c2b349e13bc6",
   "metadata": {},
   "source": [
    "### По аналогии с постоянными пользователям преподготовим данные для загрузки в БД \n",
    "- не смотря на то, что first_visit_unique можно всегда получить из БД простым запросом, мы оставляем данный столбец, так как он нужен нам в дальнейшем для генерации построчных посещений\n",
    "- добавляем новый столбец group, значение которого будем менять при АБ тестировании (1 группа будет всегда контрольной)\n",
    "- проведем тестовую генерацию вихзитов для end_date и посмотри на них визуально\n",
    "- сохраним в csv для дальнейшего использования"
   ]
  },
  {
   "cell_type": "code",
   "execution_count": 34,
   "id": "29d49b06-6663-4aac-bf7b-20c7fb2138e2",
   "metadata": {},
   "outputs": [
    {
     "data": {
      "text/html": [
       "<div>\n",
       "<style scoped>\n",
       "    .dataframe tbody tr th:only-of-type {\n",
       "        vertical-align: middle;\n",
       "    }\n",
       "\n",
       "    .dataframe tbody tr th {\n",
       "        vertical-align: top;\n",
       "    }\n",
       "\n",
       "    .dataframe thead th {\n",
       "        text-align: right;\n",
       "    }\n",
       "</style>\n",
       "<table border=\"1\" class=\"dataframe\">\n",
       "  <thead>\n",
       "    <tr style=\"text-align: right;\">\n",
       "      <th></th>\n",
       "      <th>datetime</th>\n",
       "      <th>user_id</th>\n",
       "      <th>action</th>\n",
       "      <th>type</th>\n",
       "      <th>first_visit_unique</th>\n",
       "      <th>permanent_user</th>\n",
       "      <th>visits_per_day</th>\n",
       "      <th>group</th>\n",
       "    </tr>\n",
       "  </thead>\n",
       "  <tbody>\n",
       "    <tr>\n",
       "      <th>0</th>\n",
       "      <td>2025-01-01 00:00:00.000001</td>\n",
       "      <td>2</td>\n",
       "      <td>view</td>\n",
       "      <td>main</td>\n",
       "      <td>2025-01-01 12:42:56.420493</td>\n",
       "      <td>False</td>\n",
       "      <td>15.6</td>\n",
       "      <td>1</td>\n",
       "    </tr>\n",
       "    <tr>\n",
       "      <th>1</th>\n",
       "      <td>2025-01-02 00:00:00.000001</td>\n",
       "      <td>2</td>\n",
       "      <td>view</td>\n",
       "      <td>main</td>\n",
       "      <td>2025-01-01 12:42:56.420493</td>\n",
       "      <td>False</td>\n",
       "      <td>1.0</td>\n",
       "      <td>1</td>\n",
       "    </tr>\n",
       "    <tr>\n",
       "      <th>2</th>\n",
       "      <td>2025-01-03 00:00:00.000001</td>\n",
       "      <td>2</td>\n",
       "      <td>view</td>\n",
       "      <td>main</td>\n",
       "      <td>2025-01-01 12:42:56.420493</td>\n",
       "      <td>False</td>\n",
       "      <td>15.6</td>\n",
       "      <td>1</td>\n",
       "    </tr>\n",
       "    <tr>\n",
       "      <th>3</th>\n",
       "      <td>2025-01-04 00:00:00.000001</td>\n",
       "      <td>2</td>\n",
       "      <td>view</td>\n",
       "      <td>main</td>\n",
       "      <td>2025-01-01 12:42:56.420493</td>\n",
       "      <td>False</td>\n",
       "      <td>3.0</td>\n",
       "      <td>1</td>\n",
       "    </tr>\n",
       "    <tr>\n",
       "      <th>4</th>\n",
       "      <td>2025-01-05 00:00:00.000001</td>\n",
       "      <td>2</td>\n",
       "      <td>view</td>\n",
       "      <td>main</td>\n",
       "      <td>2025-01-01 12:42:56.420493</td>\n",
       "      <td>False</td>\n",
       "      <td>15.6</td>\n",
       "      <td>1</td>\n",
       "    </tr>\n",
       "  </tbody>\n",
       "</table>\n",
       "</div>"
      ],
      "text/plain": [
       "                    datetime  user_id action  type         first_visit_unique  \\\n",
       "0 2025-01-01 00:00:00.000001        2   view  main 2025-01-01 12:42:56.420493   \n",
       "1 2025-01-02 00:00:00.000001        2   view  main 2025-01-01 12:42:56.420493   \n",
       "2 2025-01-03 00:00:00.000001        2   view  main 2025-01-01 12:42:56.420493   \n",
       "3 2025-01-04 00:00:00.000001        2   view  main 2025-01-01 12:42:56.420493   \n",
       "4 2025-01-05 00:00:00.000001        2   view  main 2025-01-01 12:42:56.420493   \n",
       "\n",
       "   permanent_user  visits_per_day  group  \n",
       "0           False            15.6      1  \n",
       "1           False             1.0      1  \n",
       "2           False            15.6      1  \n",
       "3           False             3.0      1  \n",
       "4           False            15.6      1  "
      ]
     },
     "execution_count": 34,
     "metadata": {},
     "output_type": "execute_result"
    }
   ],
   "source": [
    "df_visit_times['group'] = 1\n",
    "\n",
    "\n",
    "df_visit_times.head()\n",
    "\n"
   ]
  },
  {
   "cell_type": "code",
   "execution_count": 35,
   "id": "aa0b96ff-7db5-4f83-aa7e-501112045258",
   "metadata": {},
   "outputs": [],
   "source": [
    "df_visit_times.to_csv('nonpermanent_users.csv', index=False)\n"
   ]
  },
  {
   "cell_type": "code",
   "execution_count": 36,
   "id": "74aafdeb-da2e-48b7-81f7-3a6fcf4b9e04",
   "metadata": {},
   "outputs": [
    {
     "data": {
      "text/html": [
       "<div>\n",
       "<style scoped>\n",
       "    .dataframe tbody tr th:only-of-type {\n",
       "        vertical-align: middle;\n",
       "    }\n",
       "\n",
       "    .dataframe tbody tr th {\n",
       "        vertical-align: top;\n",
       "    }\n",
       "\n",
       "    .dataframe thead th {\n",
       "        text-align: right;\n",
       "    }\n",
       "</style>\n",
       "<table border=\"1\" class=\"dataframe\">\n",
       "  <thead>\n",
       "    <tr style=\"text-align: right;\">\n",
       "      <th></th>\n",
       "      <th>datetime</th>\n",
       "      <th>user_id</th>\n",
       "      <th>action</th>\n",
       "      <th>type</th>\n",
       "    </tr>\n",
       "  </thead>\n",
       "  <tbody>\n",
       "    <tr>\n",
       "      <th>0</th>\n",
       "      <td>2025-12-31 17:44:05.817268</td>\n",
       "      <td>131692</td>\n",
       "      <td>view</td>\n",
       "      <td>main</td>\n",
       "    </tr>\n",
       "    <tr>\n",
       "      <th>1</th>\n",
       "      <td>2025-12-31 10:04:45.362388</td>\n",
       "      <td>131692</td>\n",
       "      <td>view</td>\n",
       "      <td>main</td>\n",
       "    </tr>\n",
       "    <tr>\n",
       "      <th>2</th>\n",
       "      <td>2025-12-31 22:18:36.098575</td>\n",
       "      <td>131692</td>\n",
       "      <td>view</td>\n",
       "      <td>main</td>\n",
       "    </tr>\n",
       "    <tr>\n",
       "      <th>3</th>\n",
       "      <td>2025-12-31 09:10:50.191095</td>\n",
       "      <td>131692</td>\n",
       "      <td>view</td>\n",
       "      <td>main</td>\n",
       "    </tr>\n",
       "    <tr>\n",
       "      <th>4</th>\n",
       "      <td>2025-12-31 23:13:27.938749</td>\n",
       "      <td>131692</td>\n",
       "      <td>view</td>\n",
       "      <td>main</td>\n",
       "    </tr>\n",
       "  </tbody>\n",
       "</table>\n",
       "</div>"
      ],
      "text/plain": [
       "                    datetime  user_id action  type\n",
       "0 2025-12-31 17:44:05.817268   131692   view  main\n",
       "1 2025-12-31 10:04:45.362388   131692   view  main\n",
       "2 2025-12-31 22:18:36.098575   131692   view  main\n",
       "3 2025-12-31 09:10:50.191095   131692   view  main\n",
       "4 2025-12-31 23:13:27.938749   131692   view  main"
      ]
     },
     "metadata": {},
     "output_type": "display_data"
    },
    {
     "name": "stdout",
     "output_type": "stream",
     "text": [
      "<class 'pandas.core.frame.DataFrame'>\n",
      "Index: 41485 entries, 0 to 42885\n",
      "Data columns (total 4 columns):\n",
      " #   Column    Non-Null Count  Dtype         \n",
      "---  ------    --------------  -----         \n",
      " 0   datetime  41485 non-null  datetime64[ns]\n",
      " 1   user_id   41485 non-null  int64         \n",
      " 2   action    41485 non-null  object        \n",
      " 3   type      41485 non-null  object        \n",
      "dtypes: datetime64[ns](1), int64(1), object(2)\n",
      "memory usage: 1.6+ MB\n"
     ]
    },
    {
     "data": {
      "text/plain": [
       "None"
      ]
     },
     "metadata": {},
     "output_type": "display_data"
    },
    {
     "name": "stdout",
     "output_type": "stream",
     "text": [
      "CPU times: user 451 ms, sys: 4.53 ms, total: 455 ms\n",
      "Wall time: 455 ms\n"
     ]
    }
   ],
   "source": [
    "%%time\n",
    "\n",
    "target_date  = '2025-12-31'  # формат даты, который мы сможем впоследствии получить в даге airflow через контекст\n",
    "res_two = create_visit_lines(df_visit_times, target_date)\n",
    "display(res_two.head())\n",
    "display(res_two.info())"
   ]
  },
  {
   "cell_type": "code",
   "execution_count": 37,
   "id": "76803ce5-caaa-4aed-b88e-152db836ea38",
   "metadata": {},
   "outputs": [
    {
     "data": {
      "image/png": "[encoded data removed]",
      "text/plain": [
       "<Figure size 1200x300 with 1 Axes>"
      ]
     },
     "metadata": {},
     "output_type": "display_data"
    }
   ],
   "source": [
    "# Округляем время до 1-минутных интервалов\n",
    "res_two['time_one_min'] = res_two['datetime'].dt.floor('1T')\n",
    "\n",
    "# Группируем по 15-минутным интервалам\n",
    "visits_one_min = res_two.groupby('time_one_min').size()\n",
    "\n",
    "line_plot(visits_one_min, label='Посещаемость каждые 15 минут '+ target_date, xlabel='Время')"
   ]
  },
  {
   "cell_type": "markdown",
   "id": "3d71c954-d720-4268-a757-d532b0685fc8",
   "metadata": {},
   "source": [
    "# Вывод:\n",
    "- завершили первый этап подготовки данных\n",
    "- можно начать формирование ETL\n",
    "- на этапе ETL необзходимо будет формировать внутридненые посещения и целевые действия\n",
    "- на основании сформироанных данных уже будет возможен расчет ключевых продуктовых метрик (предварительно в суперсете)\n"
   ]
  },
  {
   "cell_type": "markdown",
   "id": "23d8469d-8f1e-4041-9c2c-d55acaf056a0",
   "metadata": {},
   "source": [
    "## На втором этапе подготовки данных запланировано:\n",
    "- устранить ошибки первого этапа (если будут выявлены после/ в процессе разработке ETL и при расчете метрик)\n",
    "- добавить рекламные компании и отдельные характеристики (для АБ тестирования и замера метрик по ним)\n",
    "- добавить парсеров с аномально большим количеством посещений (3-5 раз в месяц - для настройки алертов при их выявлении)\n",
    "- добавить падения сервиса  полностью (для настройки алертов и/или детекта их в процессе анализа данных)\n",
    "- добавить падение сервиса для новых юзеров (также для настройки алертов или детекта их в процессе исследования данных)"
   ]
  }
 ],
 "metadata": {
  "kernelspec": {
   "display_name": "Python 3.11 (py_311)",
   "language": "python",
   "name": "py_311"
  },
  "language_info": {
   "codemirror_mode": {
    "name": "ipython",
    "version": 3
   },
   "file_extension": ".py",
   "mimetype": "text/x-python",
   "name": "python",
   "nbconvert_exporter": "python",
   "pygments_lexer": "ipython3",
   "version": "3.11.0"
  }
 },
 "nbformat": 4,
 "nbformat_minor": 5
}
