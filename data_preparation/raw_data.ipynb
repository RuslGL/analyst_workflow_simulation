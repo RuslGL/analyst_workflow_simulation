{
 "cells": [
  {
   "cell_type": "code",
   "execution_count": 1,
   "id": "95105c5f-333e-4d27-a74f-5959cb17358d",
   "metadata": {},
   "outputs": [],
   "source": [
    "import pandas as pd\n",
    "import numpy as np\n",
    "from datetime import datetime, timedelta, time\n",
    "import matplotlib.pyplot as plt\n",
    "from tqdm import tqdm\n",
    "\n",
    "import warnings\n",
    "\n",
    "\n",
    "warnings.filterwarnings('ignore')"
   ]
  },
  {
   "cell_type": "markdown",
   "id": "cbef559d-3e89-4fc2-9ab5-2dde5743ea5d",
   "metadata": {},
   "source": [
    "# Задача\n",
    "## Создание датафрейма, имитирующего поведение пользователей в рамках активно развивающегося продукта\n",
    "\n",
    "## Цель подготовить датафрейм:\n",
    "- позволяющий генерировать данные, позволяющие замерять основные продуктовые метрики\n",
    "- на основе которого можно создать онлайн ETL для симуляции жизни продукта\n",
    "- позволяющий после ETL проводить эксперименты, проверку гипотез, АБ/АА тестирование, замер MDE\n",
    "\n",
    "## Результатом должны стать данные, позволяющие создать пет проект, для отработки навыков аналитика."
   ]
  },
  {
   "cell_type": "markdown",
   "id": "893667b3-2417-4d69-ba09-dcaa53b6ef5f",
   "metadata": {},
   "source": [
    "#### Исходные данные\n",
    "- задают стартовые настройки,\n",
    "- могут изменяться при каждом запуске ноутбука, что изменит итоговую генерацию данных (как по объему так и по содержанию) "
   ]
  },
  {
   "cell_type": "code",
   "execution_count": 2,
   "id": "f256cd50-8b74-4be2-908d-43e219912eb8",
   "metadata": {},
   "outputs": [],
   "source": [
    "# Задаём временные параметры\n",
    "start_date = datetime(2025, 1, 1)\n",
    "end_date = datetime(2025, 12, 31)\n",
    "days = (end_date - start_date).days + 1\n",
    "\n",
    "# Показатели прироста пользователей\n",
    "initial_users = 5  # Начальное количество пользователей\n",
    "mean_growth = 0.015  # Средний прирост в день (доля - не процент)\n",
    "growth_std = 0.006  # Отклонение изменения прироста\n",
    "\n",
    "# Параметры количества просмотров в день для регулярного пользователя\n",
    "mean_visits_per_day = 12  # Среднее количество визитов в день\n",
    "std_visits_per_day = mean_visits_per_day * 0.30  # Стандартное отклонение 30%\n",
    "\n",
    "\n",
    "# Параметры количества просмотров в день для нерегулярного пользователя\n",
    "lt = 15 # Средний срок жизни непостоянного пользователя\n",
    "std_lt = 5 # стандартное отклонение в сроке жихни пользователя\n",
    "\n",
    "# Среднее и стандартное отклонение для логнормального распределения визитов нерегулярных пользователей\n",
    "mean_visits_per_day_log = 10  # Среднее количество визитов\n",
    "std_visits_per_day_log = 3  # Стандартное отклонение"
   ]
  },
  {
   "cell_type": "markdown",
   "id": "c9d5013f-05c5-408c-9982-6a40065ddb15",
   "metadata": {},
   "source": [
    "## Универсальные функции"
   ]
  },
  {
   "cell_type": "markdown",
   "id": "b80fc2a4-6e71-4aaa-9632-0b8b9ccab42a",
   "metadata": {},
   "source": [
    "### Генерирует время захода юзеров по следующим правилам\n",
    "\n",
    "#### Основной поток \n",
    "(10:00 - 22:30)\n",
    "\n",
    "Это самая большая часть потока пользователей, которая составляет 70% от общего числа пользователей (значение n * 0.7).\n",
    "Время для этих пользователей генерируется с использованием логнормального распределения с параметрами mean=2.5 (среднее/матожидание) и sigma=0.5 (стандартное отклонение). Это создает большую концентрацию пользователей в районе 10:00 - 22:30, с возможными пиками в разные часы.\n",
    "\n",
    "\n",
    "#### Вечерний всплеск \n",
    "(21:00 - 22:30)\n",
    "\n",
    "На всплеск приходится +20% от общего числа пользователей (значение n * 0.2).\n",
    "Время для этих пользователей генерируется с использованием нормального распределения с параметрами loc=21.75 (среднее = время 21:45) и scale=0.3 (стандартное отклонение от среднего). Это создаёт более плотный поток в поздние часы вечера, около 21:30 - 22:30.\n",
    "\n",
    "#### Ночной поток\n",
    "(23:00 - 10:00)\n",
    "\n",
    "Это 10% от общего числа пользователей (значение n * 0.1).\n",
    "Для этих пользователей генерируется время с использованием нормального распределения с параметрами loc=4.5 (время 4:30) и scale=1.0, что даёт распределение с пиками около ночи. Однако, время ограничивается в пределах 00:00 - 10:00 с помощью функции np.clip."
   ]
  },
  {
   "cell_type": "code",
   "execution_count": 3,
   "id": "b81d12a8-f0da-4aff-be3c-8f6ea7f4e0bc",
   "metadata": {},
   "outputs": [],
   "source": [
    "# Функция для генерации времени входа\n",
    "def generate_visit_time(n, date):\n",
    "    # Основной поток (10:00 - 22:30)\n",
    "    morning_peak = np.random.lognormal(mean=2.5, sigma=0.5, size=int(n * 0.7))  # Основной поток\n",
    "    evening_peak = np.random.normal(loc=21.75, scale=0.3, size=int(n * 0.2))  # Вечерний всплеск\n",
    "    \n",
    "    # Добавляем ночной поток (23:00 - 10:00), он в 2 раза слабее вечернего\n",
    "    night_users = int(n * 0.1)  # 10% от общего числа пользователей\n",
    "    if night_users > 0:\n",
    "        night_base = np.random.normal(loc=4.5, scale=1.0, size=night_users)  # Среднее 4:30, разброс 1 час\n",
    "        night_base = np.clip(night_base, 0, 10)  # Ограничиваем 00:00 - 10:00\n",
    "    else:\n",
    "        night_base = np.array([])  # Добавляем пустой массив, если пользователей нет\n",
    "\n",
    "    # Объединяем все периоды\n",
    "    hours = np.concatenate([morning_peak, evening_peak, night_base])\n",
    "    hours = np.clip(hours, 0, 22.5)  # Общий диапазон 00:00 - 22:30\n",
    "    minutes = np.random.randint(0, 60, len(hours))\n",
    "\n",
    "    return [date + timedelta(hours=float(h), minutes=int(m)) for h, m in zip(hours, minutes)]"
   ]
  },
  {
   "cell_type": "markdown",
   "id": "1336d7d6-611f-4a8d-b939-21634b6ef607",
   "metadata": {},
   "source": [
    "### На основе датафрейма с ежедневным количеством посещений для каждого юзера создает строки (объекты) с посещениями"
   ]
  },
  {
   "cell_type": "code",
   "execution_count": 4,
   "id": "0d6ab46b-58ea-4127-8c30-e011a5700803",
   "metadata": {},
   "outputs": [],
   "source": [
    "def create_visit_lines(data, target_date):\n",
    "    target_date = datetime.strptime(target_date , '%Y-%m-%d').date()\n",
    "    \n",
    "    data_filtered = data[data['datetime'].dt.date == target_date].copy()\n",
    "    data_filtered = data_filtered[['datetime', 'user_id', 'first_visit_unique', 'visits_per_day']]\n",
    "    \n",
    "    # Для каждого пользователя генерируем визиты\n",
    "    user_visit_data = []\n",
    "    \n",
    "    for _, row in data_filtered.iterrows():\n",
    "        user_id = row['user_id']\n",
    "        visits_count = row['visits_per_day']\n",
    "        first_visit_unique = row['first_visit_unique']\n",
    "    \n",
    "        visit_times = generate_visit_time(visits_count, datetime(target_date.year, target_date.month, target_date.day))    \n",
    "        \n",
    "        for visit_time in visit_times:\n",
    "            user_visit_data.append({\n",
    "                'datetime': visit_time,\n",
    "                'user_id': user_id,\n",
    "                'action': 'view',\n",
    "                'type': 'main', \n",
    "            })\n",
    "    \n",
    "    # Преобразуем список в DataFrame\n",
    "    df_visit_times = pd.DataFrame(user_visit_data)\n",
    "    df_visit_times['datetime'] = pd.to_datetime(df_visit_times['datetime'])\n",
    "    \n",
    "    # Добавляем first_visit_unique к каждому user_id\n",
    "    df_visit_times = df_visit_times.merge(\n",
    "        data_filtered[['user_id', 'first_visit_unique']], on='user_id', how='left'\n",
    "    )\n",
    "\n",
    "    # Фильтруем по first_visit_unique\n",
    "    df_visit_times = df_visit_times[df_visit_times['datetime'] >= df_visit_times['first_visit_unique']]\n",
    "\n",
    "    # Удаляем first_visit_unique из финального датасета\n",
    "    df_visit_times = df_visit_times.drop(columns=['first_visit_unique'])\n",
    "\n",
    "    return df_visit_times"
   ]
  },
  {
   "cell_type": "markdown",
   "id": "3a395c78-cf7e-4dfd-ad30-6aef3cb68b42",
   "metadata": {},
   "source": [
    "### Базовый график для отражения динамики измнения количественных данных\n",
    "(например посещений в день, колебания внутри дня и т.п.)"
   ]
  },
  {
   "cell_type": "code",
   "execution_count": 5,
   "id": "370b76db-1e2a-458d-9458-5fa3115bce33",
   "metadata": {},
   "outputs": [],
   "source": [
    "def line_plot(dataset, figsize = (12, 3),\n",
    "              label='Количество пользователей', xlabel='Дни',\n",
    "              ylabel = 'Количество пользователей'):\n",
    "    plt.figure(figsize=figsize)\n",
    "    plt.plot(dataset, label=label, color='b')\n",
    "    plt.xlabel(xlabel)\n",
    "    plt.ylabel(ylabel)\n",
    "    plt.title(label)\n",
    "    plt.legend()\n",
    "    plt.grid(True)\n",
    "    plt.show()"
   ]
  },
  {
   "cell_type": "markdown",
   "id": "b112da71-0204-4757-aa41-44fc1def545a",
   "metadata": {},
   "source": [
    "## Этап 1. Генерируем новых пользователей для каждого дня жизни продукта"
   ]
  },
  {
   "cell_type": "code",
   "execution_count": 6,
   "id": "6c107ec8-17e2-4849-b7e7-1ea756194641",
   "metadata": {},
   "outputs": [
    {
     "data": {
      "text/plain": [
       "[7226, 7389, 7455, 7564, 7623, 7794, 7915, 8050, 8118, 8238]"
      ]
     },
     "execution_count": 6,
     "metadata": {},
     "output_type": "execute_result"
    }
   ],
   "source": [
    "# Генерируем количество пользователей на каждый день \n",
    "daily_users = [initial_users]\n",
    "\n",
    "# Генерируем количество пользователей на каждый день\n",
    "daily_users = [initial_users]\n",
    "\n",
    "for _ in range(1, days):\n",
    "    prev_users = daily_users[-1]\n",
    "    adjusted_growth = mean_growth + np.random.normal(0, growth_std)  # Случайное изменение прироста\n",
    "    new_users = int(np.ceil(prev_users * (1 + adjusted_growth)))  # Применяем изменённый прирост и округляем вверх\n",
    "    #daily_users.append(max(new_users, prev_users + 1))  # Гарантируем рост хотя бы на 1 пользователя\n",
    "    daily_users.append(new_users)\n",
    "\n",
    "daily_users[-10:]"
   ]
  },
  {
   "cell_type": "code",
   "execution_count": 7,
   "id": "6707fd5d-d4b9-42fd-9b5d-38a45f9279a3",
   "metadata": {},
   "outputs": [
    {
     "data": {
      "image/png": "[encoded data removed]",
      "text/plain": [
       "<Figure size 1200x300 with 1 Axes>"
      ]
     },
     "metadata": {},
     "output_type": "display_data"
    }
   ],
   "source": [
    "line_plot(daily_users, label='Рост числа пользователей')"
   ]
  },
  {
   "cell_type": "markdown",
   "id": "be0ecbb1-0b6f-4842-8f1d-5b28ddce2042",
   "metadata": {},
   "source": [
    "#### Создаем датафрейм где отразим приход новых пользователей\n",
    "с указанием для каждого первого времени пользования продуктом"
   ]
  },
  {
   "cell_type": "code",
   "execution_count": 8,
   "id": "675f78b3-89af-49a4-b8e9-43a9c7683135",
   "metadata": {},
   "outputs": [
    {
     "name": "stdout",
     "output_type": "stream",
     "text": [
      "CPU times: user 1.51 s, sys: 27.5 ms, total: 1.54 s\n",
      "Wall time: 1.23 s\n"
     ]
    },
    {
     "data": {
      "text/html": [
       "<div>\n",
       "<style scoped>\n",
       "    .dataframe tbody tr th:only-of-type {\n",
       "        vertical-align: middle;\n",
       "    }\n",
       "\n",
       "    .dataframe tbody tr th {\n",
       "        vertical-align: top;\n",
       "    }\n",
       "\n",
       "    .dataframe thead th {\n",
       "        text-align: right;\n",
       "    }\n",
       "</style>\n",
       "<table border=\"1\" class=\"dataframe\">\n",
       "  <thead>\n",
       "    <tr style=\"text-align: right;\">\n",
       "      <th></th>\n",
       "      <th>datetime</th>\n",
       "      <th>user_id</th>\n",
       "      <th>action</th>\n",
       "      <th>type</th>\n",
       "      <th>first_visit</th>\n",
       "    </tr>\n",
       "  </thead>\n",
       "  <tbody>\n",
       "    <tr>\n",
       "      <th>0</th>\n",
       "      <td>2025-01-01 09:48:56.906876</td>\n",
       "      <td>1</td>\n",
       "      <td>view</td>\n",
       "      <td>main</td>\n",
       "      <td>2025-01-01 09:48:56.906876</td>\n",
       "    </tr>\n",
       "    <tr>\n",
       "      <th>1</th>\n",
       "      <td>2025-01-01 22:57:00.000000</td>\n",
       "      <td>2</td>\n",
       "      <td>view</td>\n",
       "      <td>main</td>\n",
       "      <td>2025-01-01 22:57:00.000000</td>\n",
       "    </tr>\n",
       "    <tr>\n",
       "      <th>2</th>\n",
       "      <td>2025-01-01 15:49:09.087215</td>\n",
       "      <td>3</td>\n",
       "      <td>view</td>\n",
       "      <td>main</td>\n",
       "      <td>2025-01-01 15:49:09.087215</td>\n",
       "    </tr>\n",
       "    <tr>\n",
       "      <th>3</th>\n",
       "      <td>2025-01-01 22:16:27.437385</td>\n",
       "      <td>4</td>\n",
       "      <td>view</td>\n",
       "      <td>main</td>\n",
       "      <td>2025-01-01 22:16:27.437385</td>\n",
       "    </tr>\n",
       "    <tr>\n",
       "      <th>4</th>\n",
       "      <td>2025-01-02 17:23:44.624904</td>\n",
       "      <td>5</td>\n",
       "      <td>view</td>\n",
       "      <td>main</td>\n",
       "      <td>2025-01-02 17:23:44.624904</td>\n",
       "    </tr>\n",
       "  </tbody>\n",
       "</table>\n",
       "</div>"
      ],
      "text/plain": [
       "                    datetime  user_id action  type                first_visit\n",
       "0 2025-01-01 09:48:56.906876        1   view  main 2025-01-01 09:48:56.906876\n",
       "1 2025-01-01 22:57:00.000000        2   view  main 2025-01-01 22:57:00.000000\n",
       "2 2025-01-01 15:49:09.087215        3   view  main 2025-01-01 15:49:09.087215\n",
       "3 2025-01-01 22:16:27.437385        4   view  main 2025-01-01 22:16:27.437385\n",
       "4 2025-01-02 17:23:44.624904        5   view  main 2025-01-02 17:23:44.624904"
      ]
     },
     "execution_count": 8,
     "metadata": {},
     "output_type": "execute_result"
    }
   ],
   "source": [
    "%%time\n",
    "# Создаём датафрейм\n",
    "data = []\n",
    "\n",
    "user_counter = 1  # Инициализация счётчика для user_id\n",
    "\n",
    "for i, user_count in enumerate(daily_users):\n",
    "    date = start_date + timedelta(days=i)\n",
    "    visit_times = generate_visit_time(user_count, date)\n",
    "\n",
    "    for visit_time in visit_times:\n",
    "        data.append([visit_time, user_counter, 'view', 'main', visit_time]) \n",
    "        user_counter += 1  # Увеличиваем счётчик для следующего пользователя\n",
    "\n",
    "# Создаём DataFrame\n",
    "df = pd.DataFrame(data, columns=[\"datetime\", \"user_id\", \"action\", \"type\", \"first_visit\"])\n",
    "\n",
    "# Проверка результата\n",
    "df.head()"
   ]
  },
  {
   "cell_type": "code",
   "execution_count": 9,
   "id": "1e270119-6c5b-4240-b73d-f615334c2c5b",
   "metadata": {},
   "outputs": [
    {
     "name": "stdout",
     "output_type": "stream",
     "text": [
      "<class 'pandas.core.frame.DataFrame'>\n",
      "RangeIndex: 566736 entries, 0 to 566735\n",
      "Data columns (total 5 columns):\n",
      " #   Column       Non-Null Count   Dtype         \n",
      "---  ------       --------------   -----         \n",
      " 0   datetime     566736 non-null  datetime64[ns]\n",
      " 1   user_id      566736 non-null  int64         \n",
      " 2   action       566736 non-null  object        \n",
      " 3   type         566736 non-null  object        \n",
      " 4   first_visit  566736 non-null  datetime64[ns]\n",
      "dtypes: datetime64[ns](2), int64(1), object(2)\n",
      "memory usage: 21.6+ MB\n"
     ]
    }
   ],
   "source": [
    "df.info()"
   ]
  },
  {
   "cell_type": "markdown",
   "id": "86606f3c-8ec4-4408-b756-eeea1514e70a",
   "metadata": {},
   "source": [
    "#### Посмотрим визуально внутридневные колебания"
   ]
  },
  {
   "cell_type": "code",
   "execution_count": 10,
   "id": "c79ef5e8-60ca-4cda-b567-4b56590b95e0",
   "metadata": {},
   "outputs": [
    {
     "data": {
      "image/png": "[encoded data removed]",
      "text/plain": [
       "<Figure size 1200x300 with 1 Axes>"
      ]
     },
     "metadata": {},
     "output_type": "display_data"
    }
   ],
   "source": [
    "# 1. Фильтруем данные за 7 дней\n",
    "df_february = df[(df['datetime'] >= '2025-12-01') & (df['datetime'] < '2025-12-8')]\n",
    "\n",
    "# 2. Округляем время до 15-минутных интервалов\n",
    "df_february['time_15min'] = df_february['datetime'].dt.floor('15T')\n",
    "\n",
    "# 3. Группируем по 15-минутным интервалам\n",
    "df_february = df_february.groupby('time_15min').size()\n",
    "\n",
    "line_plot(df_february, label='Посещаемость каждые 15 минут', xlabel='Время')\n"
   ]
  },
  {
   "cell_type": "markdown",
   "id": "843379ac-aa76-433b-93d1-b6ca2d6df046",
   "metadata": {},
   "source": [
    "## Этап 2. Разделяем пользователей на постоянных и случайных"
   ]
  },
  {
   "cell_type": "code",
   "execution_count": 11,
   "id": "3fc09ef2-dbd0-4cf9-9051-749e25745240",
   "metadata": {},
   "outputs": [],
   "source": [
    "# Генерируем вероятность с нормальным распределением\n",
    "mean_prob = 0.25  # Средняя вероятность 25%\n",
    "std_dev = 0.10  # Стандартное отклонение 10%\n",
    "\n",
    "# Создаем столбец permanent_user\n",
    "df['permanent_user'] = np.random.normal(mean_prob, std_dev, size=len(df)) > np.random.rand(len(df))"
   ]
  },
  {
   "cell_type": "code",
   "execution_count": 12,
   "id": "a6340d96-7f06-458f-ade9-10d95e8ff41d",
   "metadata": {},
   "outputs": [
    {
     "data": {
      "text/plain": [
       "0.3327375941228759"
      ]
     },
     "execution_count": 12,
     "metadata": {},
     "output_type": "execute_result"
    }
   ],
   "source": [
    "df[df.permanent_user == True].shape[0] / df[df.permanent_user == False].shape[0]"
   ]
  },
  {
   "cell_type": "code",
   "execution_count": 13,
   "id": "64375e86-3e26-46db-9c34-89453dd53836",
   "metadata": {},
   "outputs": [
    {
     "name": "stdout",
     "output_type": "stream",
     "text": [
      "<class 'pandas.core.frame.DataFrame'>\n",
      "RangeIndex: 566736 entries, 0 to 566735\n",
      "Data columns (total 6 columns):\n",
      " #   Column          Non-Null Count   Dtype         \n",
      "---  ------          --------------   -----         \n",
      " 0   datetime        566736 non-null  datetime64[ns]\n",
      " 1   user_id         566736 non-null  int64         \n",
      " 2   action          566736 non-null  object        \n",
      " 3   type            566736 non-null  object        \n",
      " 4   first_visit     566736 non-null  datetime64[ns]\n",
      " 5   permanent_user  566736 non-null  bool          \n",
      "dtypes: bool(1), datetime64[ns](2), int64(1), object(2)\n",
      "memory usage: 22.2+ MB\n"
     ]
    }
   ],
   "source": [
    "df.info()"
   ]
  },
  {
   "cell_type": "code",
   "execution_count": 14,
   "id": "391f18b8-112f-4e6a-ad51-022933e3bab6",
   "metadata": {},
   "outputs": [
    {
     "data": {
      "text/html": [
       "<div>\n",
       "<style scoped>\n",
       "    .dataframe tbody tr th:only-of-type {\n",
       "        vertical-align: middle;\n",
       "    }\n",
       "\n",
       "    .dataframe tbody tr th {\n",
       "        vertical-align: top;\n",
       "    }\n",
       "\n",
       "    .dataframe thead th {\n",
       "        text-align: right;\n",
       "    }\n",
       "</style>\n",
       "<table border=\"1\" class=\"dataframe\">\n",
       "  <thead>\n",
       "    <tr style=\"text-align: right;\">\n",
       "      <th></th>\n",
       "      <th>datetime</th>\n",
       "      <th>user_id</th>\n",
       "      <th>action</th>\n",
       "      <th>type</th>\n",
       "      <th>first_visit</th>\n",
       "      <th>permanent_user</th>\n",
       "    </tr>\n",
       "  </thead>\n",
       "  <tbody>\n",
       "    <tr>\n",
       "      <th>0</th>\n",
       "      <td>2025-01-01 09:48:56.906876</td>\n",
       "      <td>1</td>\n",
       "      <td>view</td>\n",
       "      <td>main</td>\n",
       "      <td>2025-01-01 09:48:56.906876</td>\n",
       "      <td>False</td>\n",
       "    </tr>\n",
       "    <tr>\n",
       "      <th>1</th>\n",
       "      <td>2025-01-01 22:57:00.000000</td>\n",
       "      <td>2</td>\n",
       "      <td>view</td>\n",
       "      <td>main</td>\n",
       "      <td>2025-01-01 22:57:00.000000</td>\n",
       "      <td>True</td>\n",
       "    </tr>\n",
       "    <tr>\n",
       "      <th>2</th>\n",
       "      <td>2025-01-01 15:49:09.087215</td>\n",
       "      <td>3</td>\n",
       "      <td>view</td>\n",
       "      <td>main</td>\n",
       "      <td>2025-01-01 15:49:09.087215</td>\n",
       "      <td>False</td>\n",
       "    </tr>\n",
       "    <tr>\n",
       "      <th>3</th>\n",
       "      <td>2025-01-01 22:16:27.437385</td>\n",
       "      <td>4</td>\n",
       "      <td>view</td>\n",
       "      <td>main</td>\n",
       "      <td>2025-01-01 22:16:27.437385</td>\n",
       "      <td>False</td>\n",
       "    </tr>\n",
       "    <tr>\n",
       "      <th>4</th>\n",
       "      <td>2025-01-02 17:23:44.624904</td>\n",
       "      <td>5</td>\n",
       "      <td>view</td>\n",
       "      <td>main</td>\n",
       "      <td>2025-01-02 17:23:44.624904</td>\n",
       "      <td>False</td>\n",
       "    </tr>\n",
       "  </tbody>\n",
       "</table>\n",
       "</div>"
      ],
      "text/plain": [
       "                    datetime  user_id action  type                first_visit  \\\n",
       "0 2025-01-01 09:48:56.906876        1   view  main 2025-01-01 09:48:56.906876   \n",
       "1 2025-01-01 22:57:00.000000        2   view  main 2025-01-01 22:57:00.000000   \n",
       "2 2025-01-01 15:49:09.087215        3   view  main 2025-01-01 15:49:09.087215   \n",
       "3 2025-01-01 22:16:27.437385        4   view  main 2025-01-01 22:16:27.437385   \n",
       "4 2025-01-02 17:23:44.624904        5   view  main 2025-01-02 17:23:44.624904   \n",
       "\n",
       "   permanent_user  \n",
       "0           False  \n",
       "1            True  \n",
       "2           False  \n",
       "3           False  \n",
       "4           False  "
      ]
     },
     "execution_count": 14,
     "metadata": {},
     "output_type": "execute_result"
    }
   ],
   "source": [
    "df.head()"
   ]
  },
  {
   "cell_type": "markdown",
   "id": "1ef9b40d-873b-4ca2-ba18-921ace906618",
   "metadata": {},
   "source": [
    "## Этап 3. Рассчитаем для каждого дня количество визитов для постоянных пользователей"
   ]
  },
  {
   "cell_type": "code",
   "execution_count": 15,
   "id": "75c33282-fc47-4c4c-8a62-61c533d17a5a",
   "metadata": {},
   "outputs": [
    {
     "name": "stdout",
     "output_type": "stream",
     "text": [
      "CPU times: user 3.05 s, sys: 1.2 s, total: 4.26 s\n",
      "Wall time: 4.53 s\n"
     ]
    },
    {
     "data": {
      "text/html": [
       "<div>\n",
       "<style scoped>\n",
       "    .dataframe tbody tr th:only-of-type {\n",
       "        vertical-align: middle;\n",
       "    }\n",
       "\n",
       "    .dataframe tbody tr th {\n",
       "        vertical-align: top;\n",
       "    }\n",
       "\n",
       "    .dataframe thead th {\n",
       "        text-align: right;\n",
       "    }\n",
       "</style>\n",
       "<table border=\"1\" class=\"dataframe\">\n",
       "  <thead>\n",
       "    <tr style=\"text-align: right;\">\n",
       "      <th></th>\n",
       "      <th>datetime</th>\n",
       "      <th>user_id</th>\n",
       "      <th>action</th>\n",
       "      <th>type</th>\n",
       "      <th>first_visit</th>\n",
       "      <th>permanent_user</th>\n",
       "    </tr>\n",
       "  </thead>\n",
       "  <tbody>\n",
       "    <tr>\n",
       "      <th>0</th>\n",
       "      <td>2025-01-01 00:00:00.000001</td>\n",
       "      <td>2</td>\n",
       "      <td>view</td>\n",
       "      <td>main</td>\n",
       "      <td>-1</td>\n",
       "      <td>True</td>\n",
       "    </tr>\n",
       "    <tr>\n",
       "      <th>1</th>\n",
       "      <td>2025-01-02 00:00:00.000001</td>\n",
       "      <td>2</td>\n",
       "      <td>view</td>\n",
       "      <td>main</td>\n",
       "      <td>-1</td>\n",
       "      <td>True</td>\n",
       "    </tr>\n",
       "    <tr>\n",
       "      <th>2</th>\n",
       "      <td>2025-01-03 00:00:00.000001</td>\n",
       "      <td>2</td>\n",
       "      <td>view</td>\n",
       "      <td>main</td>\n",
       "      <td>-1</td>\n",
       "      <td>True</td>\n",
       "    </tr>\n",
       "    <tr>\n",
       "      <th>3</th>\n",
       "      <td>2025-01-04 00:00:00.000001</td>\n",
       "      <td>2</td>\n",
       "      <td>view</td>\n",
       "      <td>main</td>\n",
       "      <td>-1</td>\n",
       "      <td>True</td>\n",
       "    </tr>\n",
       "    <tr>\n",
       "      <th>4</th>\n",
       "      <td>2025-01-05 00:00:00.000001</td>\n",
       "      <td>2</td>\n",
       "      <td>view</td>\n",
       "      <td>main</td>\n",
       "      <td>-1</td>\n",
       "      <td>True</td>\n",
       "    </tr>\n",
       "  </tbody>\n",
       "</table>\n",
       "</div>"
      ],
      "text/plain": [
       "                    datetime  user_id action  type first_visit  permanent_user\n",
       "0 2025-01-01 00:00:00.000001        2   view  main          -1            True\n",
       "1 2025-01-02 00:00:00.000001        2   view  main          -1            True\n",
       "2 2025-01-03 00:00:00.000001        2   view  main          -1            True\n",
       "3 2025-01-04 00:00:00.000001        2   view  main          -1            True\n",
       "4 2025-01-05 00:00:00.000001        2   view  main          -1            True"
      ]
     },
     "execution_count": 15,
     "metadata": {},
     "output_type": "execute_result"
    }
   ],
   "source": [
    "%%time\n",
    "\n",
    "permanent_users = df[df['permanent_user'] == True]  # Фильтруем постоянных пользователей\n",
    "\n",
    "# Даты для всех визитов (все уникальные даты из df)\n",
    "dates = pd.to_datetime(df['datetime'].dt.date.unique())\n",
    "\n",
    "# Получаем список всех user_id для постоянных пользователей\n",
    "user_ids = permanent_users['user_id'].values\n",
    "\n",
    "# Создаём массив всех дат и пользователей (по одной строке на каждый день для каждого постоянного пользователя)\n",
    "dates_repeated = np.tile(dates, len(user_ids))\n",
    "user_ids_repeated = np.repeat(user_ids, len(dates))\n",
    "\n",
    "\n",
    "# Векторизуем создание временных меток\n",
    "# Переводим даты в datetime, добавляем microseconds=1\n",
    "visit_times = pd.to_datetime(dates_repeated) + timedelta(microseconds=1)\n",
    "\n",
    "# Создаём DataFrame для добавления визитов\n",
    "df_permanent_visits = pd.DataFrame({\n",
    "    'datetime': visit_times,\n",
    "    'user_id': user_ids_repeated,\n",
    "    'action': 'view',\n",
    "    'type': 'main',\n",
    "    'first_visit': -1,\n",
    "    'permanent_user': True\n",
    "})\n",
    "\n",
    "\n",
    "\n",
    "# Проверка результата\n",
    "df_permanent_visits = pd.concat([df_permanent_visits, permanent_users])\n",
    "\n",
    "df_permanent_visits.head()"
   ]
  },
  {
   "cell_type": "code",
   "execution_count": 16,
   "id": "95769f50-8c69-49ce-b49a-6da71cf7711e",
   "metadata": {},
   "outputs": [
    {
     "name": "stdout",
     "output_type": "stream",
     "text": [
      "CPU times: user 3.27 s, sys: 1.34 s, total: 4.61 s\n",
      "Wall time: 5.2 s\n"
     ]
    },
    {
     "data": {
      "text/html": [
       "<div>\n",
       "<style scoped>\n",
       "    .dataframe tbody tr th:only-of-type {\n",
       "        vertical-align: middle;\n",
       "    }\n",
       "\n",
       "    .dataframe tbody tr th {\n",
       "        vertical-align: top;\n",
       "    }\n",
       "\n",
       "    .dataframe thead th {\n",
       "        text-align: right;\n",
       "    }\n",
       "</style>\n",
       "<table border=\"1\" class=\"dataframe\">\n",
       "  <thead>\n",
       "    <tr style=\"text-align: right;\">\n",
       "      <th></th>\n",
       "      <th>datetime</th>\n",
       "      <th>user_id</th>\n",
       "      <th>action</th>\n",
       "      <th>type</th>\n",
       "      <th>first_visit</th>\n",
       "      <th>permanent_user</th>\n",
       "      <th>first_visit_unique</th>\n",
       "    </tr>\n",
       "  </thead>\n",
       "  <tbody>\n",
       "    <tr>\n",
       "      <th>0</th>\n",
       "      <td>2025-01-01 00:00:00.000001</td>\n",
       "      <td>2</td>\n",
       "      <td>view</td>\n",
       "      <td>main</td>\n",
       "      <td>-1</td>\n",
       "      <td>True</td>\n",
       "      <td>2025-01-01 22:57:00</td>\n",
       "    </tr>\n",
       "    <tr>\n",
       "      <th>1</th>\n",
       "      <td>2025-01-02 00:00:00.000001</td>\n",
       "      <td>2</td>\n",
       "      <td>view</td>\n",
       "      <td>main</td>\n",
       "      <td>-1</td>\n",
       "      <td>True</td>\n",
       "      <td>2025-01-01 22:57:00</td>\n",
       "    </tr>\n",
       "    <tr>\n",
       "      <th>2</th>\n",
       "      <td>2025-01-03 00:00:00.000001</td>\n",
       "      <td>2</td>\n",
       "      <td>view</td>\n",
       "      <td>main</td>\n",
       "      <td>-1</td>\n",
       "      <td>True</td>\n",
       "      <td>2025-01-01 22:57:00</td>\n",
       "    </tr>\n",
       "    <tr>\n",
       "      <th>3</th>\n",
       "      <td>2025-01-04 00:00:00.000001</td>\n",
       "      <td>2</td>\n",
       "      <td>view</td>\n",
       "      <td>main</td>\n",
       "      <td>-1</td>\n",
       "      <td>True</td>\n",
       "      <td>2025-01-01 22:57:00</td>\n",
       "    </tr>\n",
       "    <tr>\n",
       "      <th>4</th>\n",
       "      <td>2025-01-05 00:00:00.000001</td>\n",
       "      <td>2</td>\n",
       "      <td>view</td>\n",
       "      <td>main</td>\n",
       "      <td>-1</td>\n",
       "      <td>True</td>\n",
       "      <td>2025-01-01 22:57:00</td>\n",
       "    </tr>\n",
       "  </tbody>\n",
       "</table>\n",
       "</div>"
      ],
      "text/plain": [
       "                    datetime  user_id action  type first_visit  \\\n",
       "0 2025-01-01 00:00:00.000001        2   view  main          -1   \n",
       "1 2025-01-02 00:00:00.000001        2   view  main          -1   \n",
       "2 2025-01-03 00:00:00.000001        2   view  main          -1   \n",
       "3 2025-01-04 00:00:00.000001        2   view  main          -1   \n",
       "4 2025-01-05 00:00:00.000001        2   view  main          -1   \n",
       "\n",
       "   permanent_user  first_visit_unique  \n",
       "0            True 2025-01-01 22:57:00  \n",
       "1            True 2025-01-01 22:57:00  \n",
       "2            True 2025-01-01 22:57:00  \n",
       "3            True 2025-01-01 22:57:00  \n",
       "4            True 2025-01-01 22:57:00  "
      ]
     },
     "execution_count": 16,
     "metadata": {},
     "output_type": "execute_result"
    }
   ],
   "source": [
    "%%time\n",
    "# Находим минимальную дату для каждого пользователя (дата начала пользования продуктом)\n",
    "first_visit_dates = permanent_users.groupby('user_id')['datetime'].min().reset_index()\n",
    "first_visit_dates\n",
    "\n",
    "# Переименовываем столбцы для последующего слияния\n",
    "first_visit_dates.columns = ['user_id', 'first_visit_unique']\n",
    "\n",
    "# Выполняем merge с оригинальным DataFrame\n",
    "data = df_permanent_visits.merge(first_visit_dates, on='user_id', how='left')\n",
    "data.head()"
   ]
  },
  {
   "cell_type": "code",
   "execution_count": 17,
   "id": "afc57024-08b4-47f6-b3a6-55a53e58b9a3",
   "metadata": {},
   "outputs": [
    {
     "data": {
      "text/html": [
       "<div>\n",
       "<style scoped>\n",
       "    .dataframe tbody tr th:only-of-type {\n",
       "        vertical-align: middle;\n",
       "    }\n",
       "\n",
       "    .dataframe tbody tr th {\n",
       "        vertical-align: top;\n",
       "    }\n",
       "\n",
       "    .dataframe thead th {\n",
       "        text-align: right;\n",
       "    }\n",
       "</style>\n",
       "<table border=\"1\" class=\"dataframe\">\n",
       "  <thead>\n",
       "    <tr style=\"text-align: right;\">\n",
       "      <th></th>\n",
       "      <th>datetime</th>\n",
       "      <th>user_id</th>\n",
       "      <th>action</th>\n",
       "      <th>type</th>\n",
       "      <th>permanent_user</th>\n",
       "      <th>first_visit_unique</th>\n",
       "    </tr>\n",
       "  </thead>\n",
       "  <tbody>\n",
       "    <tr>\n",
       "      <th>0</th>\n",
       "      <td>2025-01-01 22:57:00.000000</td>\n",
       "      <td>2</td>\n",
       "      <td>view</td>\n",
       "      <td>main</td>\n",
       "      <td>True</td>\n",
       "      <td>2025-01-01 22:57:00.000000</td>\n",
       "    </tr>\n",
       "    <tr>\n",
       "      <th>1</th>\n",
       "      <td>2025-01-02 00:00:00.000001</td>\n",
       "      <td>2</td>\n",
       "      <td>view</td>\n",
       "      <td>main</td>\n",
       "      <td>True</td>\n",
       "      <td>2025-01-01 22:57:00.000000</td>\n",
       "    </tr>\n",
       "    <tr>\n",
       "      <th>2</th>\n",
       "      <td>2025-01-02 12:19:18.700501</td>\n",
       "      <td>6</td>\n",
       "      <td>view</td>\n",
       "      <td>main</td>\n",
       "      <td>True</td>\n",
       "      <td>2025-01-02 12:19:18.700501</td>\n",
       "    </tr>\n",
       "    <tr>\n",
       "      <th>3</th>\n",
       "      <td>2025-01-03 00:00:00.000001</td>\n",
       "      <td>2</td>\n",
       "      <td>view</td>\n",
       "      <td>main</td>\n",
       "      <td>True</td>\n",
       "      <td>2025-01-01 22:57:00.000000</td>\n",
       "    </tr>\n",
       "    <tr>\n",
       "      <th>4</th>\n",
       "      <td>2025-01-03 00:00:00.000001</td>\n",
       "      <td>6</td>\n",
       "      <td>view</td>\n",
       "      <td>main</td>\n",
       "      <td>True</td>\n",
       "      <td>2025-01-02 12:19:18.700501</td>\n",
       "    </tr>\n",
       "  </tbody>\n",
       "</table>\n",
       "</div>"
      ],
      "text/plain": [
       "                    datetime  user_id action  type  permanent_user  \\\n",
       "0 2025-01-01 22:57:00.000000        2   view  main            True   \n",
       "1 2025-01-02 00:00:00.000001        2   view  main            True   \n",
       "2 2025-01-02 12:19:18.700501        6   view  main            True   \n",
       "3 2025-01-03 00:00:00.000001        2   view  main            True   \n",
       "4 2025-01-03 00:00:00.000001        6   view  main            True   \n",
       "\n",
       "          first_visit_unique  \n",
       "0 2025-01-01 22:57:00.000000  \n",
       "1 2025-01-01 22:57:00.000000  \n",
       "2 2025-01-02 12:19:18.700501  \n",
       "3 2025-01-01 22:57:00.000000  \n",
       "4 2025-01-02 12:19:18.700501  "
      ]
     },
     "execution_count": 17,
     "metadata": {},
     "output_type": "execute_result"
    }
   ],
   "source": [
    "# Удаляем строки, где datetime меньше first_visit\n",
    "data = data[data['datetime'] >= data['first_visit_unique']]\n",
    "data = data.sort_values(by=['datetime', 'user_id'])\n",
    "\n",
    "data = data.reset_index()\n",
    "data = data.drop(['first_visit', 'index'\t], axis=1)\n",
    "# Проверка результата\n",
    "data.head()"
   ]
  },
  {
   "cell_type": "markdown",
   "id": "974e7226-e684-4666-9cf2-740aba43c231",
   "metadata": {},
   "source": [
    "#### На данном этапе имеем датафрейм \n",
    "где для каждого постоянного пользователя начиная с первого дня его посещения есть запись,\n",
    "\n",
    "куда далее мы добавим количество просмотров в этот день\n",
    "\n",
    "\n",
    "Характеристики распредления заданы в начале ноутбука и одинаковы для каждого постоянного пользователя"
   ]
  },
  {
   "cell_type": "code",
   "execution_count": 18,
   "id": "9d310518-d5e6-4e15-9959-161bd1fb729d",
   "metadata": {},
   "outputs": [
    {
     "data": {
      "text/html": [
       "<div>\n",
       "<style scoped>\n",
       "    .dataframe tbody tr th:only-of-type {\n",
       "        vertical-align: middle;\n",
       "    }\n",
       "\n",
       "    .dataframe tbody tr th {\n",
       "        vertical-align: top;\n",
       "    }\n",
       "\n",
       "    .dataframe thead th {\n",
       "        text-align: right;\n",
       "    }\n",
       "</style>\n",
       "<table border=\"1\" class=\"dataframe\">\n",
       "  <thead>\n",
       "    <tr style=\"text-align: right;\">\n",
       "      <th></th>\n",
       "      <th>datetime</th>\n",
       "      <th>user_id</th>\n",
       "      <th>action</th>\n",
       "      <th>type</th>\n",
       "      <th>permanent_user</th>\n",
       "      <th>first_visit_unique</th>\n",
       "      <th>visits_per_day</th>\n",
       "    </tr>\n",
       "  </thead>\n",
       "  <tbody>\n",
       "    <tr>\n",
       "      <th>0</th>\n",
       "      <td>2025-01-01 22:57:00.000000</td>\n",
       "      <td>2</td>\n",
       "      <td>view</td>\n",
       "      <td>main</td>\n",
       "      <td>True</td>\n",
       "      <td>2025-01-01 22:57:00.000000</td>\n",
       "      <td>8</td>\n",
       "    </tr>\n",
       "    <tr>\n",
       "      <th>1</th>\n",
       "      <td>2025-01-02 00:00:00.000001</td>\n",
       "      <td>2</td>\n",
       "      <td>view</td>\n",
       "      <td>main</td>\n",
       "      <td>True</td>\n",
       "      <td>2025-01-01 22:57:00.000000</td>\n",
       "      <td>10</td>\n",
       "    </tr>\n",
       "    <tr>\n",
       "      <th>2</th>\n",
       "      <td>2025-01-02 12:19:18.700501</td>\n",
       "      <td>6</td>\n",
       "      <td>view</td>\n",
       "      <td>main</td>\n",
       "      <td>True</td>\n",
       "      <td>2025-01-02 12:19:18.700501</td>\n",
       "      <td>6</td>\n",
       "    </tr>\n",
       "    <tr>\n",
       "      <th>3</th>\n",
       "      <td>2025-01-03 00:00:00.000001</td>\n",
       "      <td>2</td>\n",
       "      <td>view</td>\n",
       "      <td>main</td>\n",
       "      <td>True</td>\n",
       "      <td>2025-01-01 22:57:00.000000</td>\n",
       "      <td>17</td>\n",
       "    </tr>\n",
       "    <tr>\n",
       "      <th>4</th>\n",
       "      <td>2025-01-03 00:00:00.000001</td>\n",
       "      <td>6</td>\n",
       "      <td>view</td>\n",
       "      <td>main</td>\n",
       "      <td>True</td>\n",
       "      <td>2025-01-02 12:19:18.700501</td>\n",
       "      <td>12</td>\n",
       "    </tr>\n",
       "  </tbody>\n",
       "</table>\n",
       "</div>"
      ],
      "text/plain": [
       "                    datetime  user_id action  type  permanent_user  \\\n",
       "0 2025-01-01 22:57:00.000000        2   view  main            True   \n",
       "1 2025-01-02 00:00:00.000001        2   view  main            True   \n",
       "2 2025-01-02 12:19:18.700501        6   view  main            True   \n",
       "3 2025-01-03 00:00:00.000001        2   view  main            True   \n",
       "4 2025-01-03 00:00:00.000001        6   view  main            True   \n",
       "\n",
       "          first_visit_unique  visits_per_day  \n",
       "0 2025-01-01 22:57:00.000000               8  \n",
       "1 2025-01-01 22:57:00.000000              10  \n",
       "2 2025-01-02 12:19:18.700501               6  \n",
       "3 2025-01-01 22:57:00.000000              17  \n",
       "4 2025-01-02 12:19:18.700501              12  "
      ]
     },
     "execution_count": 18,
     "metadata": {},
     "output_type": "execute_result"
    }
   ],
   "source": [
    "# Генерируем серию случайных чисел для каждой строки в DataFrame\n",
    "# Характеристики распредления заданы в начале ноутбука и одинаковы для каждого постоянного пользователя\n",
    "\n",
    "visits_per_day_series = np.random.normal(mean_visits_per_day, std_visits_per_day, size=len(data))\n",
    "# Округляем значения, чтобы количество визитов было целым числом\n",
    "visits_per_day_series = visits_per_day_series.round().astype(int)\n",
    "\n",
    "# Добавляем эту серию в исходный DataFrame\n",
    "data['visits_per_day'] = visits_per_day_series\n",
    "\n",
    "data = data[data['visits_per_day'] > 0]\n",
    "\n",
    "# Проверка результата\n",
    "data.head()"
   ]
  },
  {
   "cell_type": "code",
   "execution_count": 19,
   "id": "e5acd408-d15b-4ed9-ab13-e4bebced8af6",
   "metadata": {},
   "outputs": [
    {
     "name": "stdout",
     "output_type": "stream",
     "text": [
      "<class 'pandas.core.frame.DataFrame'>\n",
      "Index: 9202345 entries, 0 to 9208751\n",
      "Data columns (total 7 columns):\n",
      " #   Column              Dtype         \n",
      "---  ------              -----         \n",
      " 0   datetime            datetime64[ns]\n",
      " 1   user_id             int64         \n",
      " 2   action              object        \n",
      " 3   type                object        \n",
      " 4   permanent_user      bool          \n",
      " 5   first_visit_unique  datetime64[ns]\n",
      " 6   visits_per_day      int64         \n",
      "dtypes: bool(1), datetime64[ns](2), int64(2), object(2)\n",
      "memory usage: 500.2+ MB\n"
     ]
    }
   ],
   "source": [
    "data.info()"
   ]
  },
  {
   "cell_type": "code",
   "execution_count": 20,
   "id": "e56a4718-9498-4801-9b1c-22b25dd617b6",
   "metadata": {},
   "outputs": [
    {
     "data": {
      "text/plain": [
       "110492623"
      ]
     },
     "execution_count": 20,
     "metadata": {},
     "output_type": "execute_result"
    }
   ],
   "source": [
    "data['visits_per_day'].sum()"
   ]
  },
  {
   "cell_type": "markdown",
   "id": "6b03c2d9-1b49-4896-a4c7-f8f12af8ac03",
   "metadata": {},
   "source": [
    "#### На данном этапе имеем ~ 9 млн записей group user-day\n",
    "\n",
    "##### Общее количество строк при генерации визитов для постоянных пользователей будет ~ 110 млн\n",
    "##### В связи с чем принимаем решение генерить визиты на стадии подгрузки в БД в рамках ETL"
   ]
  },
  {
   "cell_type": "markdown",
   "id": "ea99ddf1-6ecc-4d6e-b856-fe54e2cd00d2",
   "metadata": {},
   "source": [
    "## Этап 4. Исследование для дальнешей доработки данного проекта"
   ]
  },
  {
   "cell_type": "markdown",
   "id": "744f19ab-6f1f-4513-8970-8859c9ce50fe",
   "metadata": {},
   "source": [
    "### Этап 4.1 Создание пользовательских посещений (просмотров)\n",
    "Для последнего дня, включенного в период отслеживания продукта создадим построчные посещения для постоянных пользователей"
   ]
  },
  {
   "cell_type": "code",
   "execution_count": 21,
   "id": "f6d528ba-dfca-468e-a5c6-1b22f63659c7",
   "metadata": {
    "scrolled": true
   },
   "outputs": [
    {
     "data": {
      "text/html": [
       "<div>\n",
       "<style scoped>\n",
       "    .dataframe tbody tr th:only-of-type {\n",
       "        vertical-align: middle;\n",
       "    }\n",
       "\n",
       "    .dataframe tbody tr th {\n",
       "        vertical-align: top;\n",
       "    }\n",
       "\n",
       "    .dataframe thead th {\n",
       "        text-align: right;\n",
       "    }\n",
       "</style>\n",
       "<table border=\"1\" class=\"dataframe\">\n",
       "  <thead>\n",
       "    <tr style=\"text-align: right;\">\n",
       "      <th></th>\n",
       "      <th>datetime</th>\n",
       "      <th>user_id</th>\n",
       "      <th>action</th>\n",
       "      <th>type</th>\n",
       "    </tr>\n",
       "  </thead>\n",
       "  <tbody>\n",
       "    <tr>\n",
       "      <th>0</th>\n",
       "      <td>2025-12-31 13:04:01.289589</td>\n",
       "      <td>2</td>\n",
       "      <td>view</td>\n",
       "      <td>main</td>\n",
       "    </tr>\n",
       "    <tr>\n",
       "      <th>1</th>\n",
       "      <td>2025-12-31 15:41:47.643569</td>\n",
       "      <td>2</td>\n",
       "      <td>view</td>\n",
       "      <td>main</td>\n",
       "    </tr>\n",
       "    <tr>\n",
       "      <th>2</th>\n",
       "      <td>2025-12-31 06:39:37.094467</td>\n",
       "      <td>2</td>\n",
       "      <td>view</td>\n",
       "      <td>main</td>\n",
       "    </tr>\n",
       "    <tr>\n",
       "      <th>3</th>\n",
       "      <td>2025-12-31 08:15:52.122311</td>\n",
       "      <td>2</td>\n",
       "      <td>view</td>\n",
       "      <td>main</td>\n",
       "    </tr>\n",
       "    <tr>\n",
       "      <th>4</th>\n",
       "      <td>2025-12-31 22:13:48.787061</td>\n",
       "      <td>2</td>\n",
       "      <td>view</td>\n",
       "      <td>main</td>\n",
       "    </tr>\n",
       "  </tbody>\n",
       "</table>\n",
       "</div>"
      ],
      "text/plain": [
       "                    datetime  user_id action  type\n",
       "0 2025-12-31 13:04:01.289589        2   view  main\n",
       "1 2025-12-31 15:41:47.643569        2   view  main\n",
       "2 2025-12-31 06:39:37.094467        2   view  main\n",
       "3 2025-12-31 08:15:52.122311        2   view  main\n",
       "4 2025-12-31 22:13:48.787061        2   view  main"
      ]
     },
     "metadata": {},
     "output_type": "display_data"
    },
    {
     "name": "stdout",
     "output_type": "stream",
     "text": [
      "<class 'pandas.core.frame.DataFrame'>\n",
      "Index: 1508823 entries, 0 to 1519619\n",
      "Data columns (total 4 columns):\n",
      " #   Column    Non-Null Count    Dtype         \n",
      "---  ------    --------------    -----         \n",
      " 0   datetime  1508823 non-null  datetime64[ns]\n",
      " 1   user_id   1508823 non-null  int64         \n",
      " 2   action    1508823 non-null  object        \n",
      " 3   type      1508823 non-null  object        \n",
      "dtypes: datetime64[ns](1), int64(1), object(2)\n",
      "memory usage: 57.6+ MB\n"
     ]
    },
    {
     "data": {
      "text/plain": [
       "None"
      ]
     },
     "metadata": {},
     "output_type": "display_data"
    },
    {
     "name": "stdout",
     "output_type": "stream",
     "text": [
      "CPU times: user 7.64 s, sys: 195 ms, total: 7.83 s\n",
      "Wall time: 7.88 s\n"
     ]
    }
   ],
   "source": [
    "%%time\n",
    "\n",
    "target_date  = '2025-12-31'\n",
    "res = create_visit_lines(data, target_date)\n",
    "display(res.head())\n",
    "display(res.info())"
   ]
  },
  {
   "cell_type": "code",
   "execution_count": 22,
   "id": "2b6f3e1a-d271-49e3-918b-a76dc03928c2",
   "metadata": {},
   "outputs": [
    {
     "data": {
      "text/html": [
       "<div>\n",
       "<style scoped>\n",
       "    .dataframe tbody tr th:only-of-type {\n",
       "        vertical-align: middle;\n",
       "    }\n",
       "\n",
       "    .dataframe tbody tr th {\n",
       "        vertical-align: top;\n",
       "    }\n",
       "\n",
       "    .dataframe thead th {\n",
       "        text-align: right;\n",
       "    }\n",
       "</style>\n",
       "<table border=\"1\" class=\"dataframe\">\n",
       "  <thead>\n",
       "    <tr style=\"text-align: right;\">\n",
       "      <th></th>\n",
       "      <th>datetime</th>\n",
       "      <th>user_id</th>\n",
       "      <th>action</th>\n",
       "      <th>type</th>\n",
       "    </tr>\n",
       "  </thead>\n",
       "  <tbody>\n",
       "  </tbody>\n",
       "</table>\n",
       "</div>"
      ],
      "text/plain": [
       "Empty DataFrame\n",
       "Columns: [datetime, user_id, action, type]\n",
       "Index: []"
      ]
     },
     "execution_count": 22,
     "metadata": {},
     "output_type": "execute_result"
    }
   ],
   "source": [
    "# res.sort_values(by=['datetime', 'user_id']).head(50)\n",
    "res[res['datetime'].dt.time == time(0, 0, 0, 1)] # проверим что функция отработала верно и не осталось данных со значениями 00:00:00.000001"
   ]
  },
  {
   "cell_type": "markdown",
   "id": "8a593726-8964-4daf-9930-c3a09d48a832",
   "metadata": {},
   "source": [
    "#### Функция генерации построковых посещений работае и работает за разумное время\n",
    "\n",
    "#### Посмотрим на получившиеся данные визуально"
   ]
  },
  {
   "cell_type": "code",
   "execution_count": 23,
   "id": "42997934-0b9f-45e2-8b90-585700a84ad9",
   "metadata": {},
   "outputs": [
    {
     "data": {
      "image/png": "[encoded data removed]",
      "text/plain": [
       "<Figure size 1200x300 with 1 Axes>"
      ]
     },
     "metadata": {},
     "output_type": "display_data"
    }
   ],
   "source": [
    "# Округляем время до 1-минутных интервалов\n",
    "res['time_one_min'] = res['datetime'].dt.floor('1T')\n",
    "\n",
    "# Группируем по 15-минутным интервалам\n",
    "visits_one_min = res.groupby('time_one_min').size()\n",
    "\n",
    "line_plot(visits_one_min, label='Посещаемость каждые 15 минут '+ target_date, xlabel='Время')"
   ]
  },
  {
   "cell_type": "markdown",
   "id": "75478271-f70c-41de-be02-973ec1a002d5",
   "metadata": {},
   "source": [
    "### Этап 4.2 Экспериментальный рассчет для каждого дня количества визитов для постоянных пользователей\n",
    "\n",
    "#### Расчет здесь более сложный, так как у каждого пользователя своя длительность жизни в рамках продукта, \n",
    "в связи с чем невозмонжо полностью векторизовать расчет количества дневных посещений в связи с чем генерация данных будет существенно более длительной"
   ]
  },
  {
   "cell_type": "code",
   "execution_count": 24,
   "id": "5693ed5a-abb3-4a4c-8838-40593e10bed1",
   "metadata": {},
   "outputs": [
    {
     "name": "stdout",
     "output_type": "stream",
     "text": [
      "CPU times: user 155 ms, sys: 12.5 ms, total: 168 ms\n",
      "Wall time: 57.8 ms\n"
     ]
    },
    {
     "data": {
      "text/html": [
       "<div>\n",
       "<style scoped>\n",
       "    .dataframe tbody tr th:only-of-type {\n",
       "        vertical-align: middle;\n",
       "    }\n",
       "\n",
       "    .dataframe tbody tr th {\n",
       "        vertical-align: top;\n",
       "    }\n",
       "\n",
       "    .dataframe thead th {\n",
       "        text-align: right;\n",
       "    }\n",
       "</style>\n",
       "<table border=\"1\" class=\"dataframe\">\n",
       "  <thead>\n",
       "    <tr style=\"text-align: right;\">\n",
       "      <th></th>\n",
       "      <th>user_id</th>\n",
       "      <th>first_visit_unique</th>\n",
       "      <th>exit_day</th>\n",
       "    </tr>\n",
       "  </thead>\n",
       "  <tbody>\n",
       "    <tr>\n",
       "      <th>0</th>\n",
       "      <td>1</td>\n",
       "      <td>2025-01-01 09:48:56.906876</td>\n",
       "      <td>2025-01-22 09:48:56.906876</td>\n",
       "    </tr>\n",
       "    <tr>\n",
       "      <th>1</th>\n",
       "      <td>3</td>\n",
       "      <td>2025-01-01 15:49:09.087215</td>\n",
       "      <td>2025-01-12 15:49:09.087215</td>\n",
       "    </tr>\n",
       "    <tr>\n",
       "      <th>2</th>\n",
       "      <td>4</td>\n",
       "      <td>2025-01-01 22:16:27.437385</td>\n",
       "      <td>2025-01-25 22:16:27.437385</td>\n",
       "    </tr>\n",
       "    <tr>\n",
       "      <th>3</th>\n",
       "      <td>5</td>\n",
       "      <td>2025-01-02 17:23:44.624904</td>\n",
       "      <td>2025-01-19 17:23:44.624904</td>\n",
       "    </tr>\n",
       "    <tr>\n",
       "      <th>4</th>\n",
       "      <td>7</td>\n",
       "      <td>2025-01-02 09:01:49.654808</td>\n",
       "      <td>2025-01-19 09:01:49.654808</td>\n",
       "    </tr>\n",
       "  </tbody>\n",
       "</table>\n",
       "</div>"
      ],
      "text/plain": [
       "   user_id         first_visit_unique                   exit_day\n",
       "0        1 2025-01-01 09:48:56.906876 2025-01-22 09:48:56.906876\n",
       "1        3 2025-01-01 15:49:09.087215 2025-01-12 15:49:09.087215\n",
       "2        4 2025-01-01 22:16:27.437385 2025-01-25 22:16:27.437385\n",
       "3        5 2025-01-02 17:23:44.624904 2025-01-19 17:23:44.624904\n",
       "4        7 2025-01-02 09:01:49.654808 2025-01-19 09:01:49.654808"
      ]
     },
     "execution_count": 24,
     "metadata": {},
     "output_type": "execute_result"
    }
   ],
   "source": [
    "%%time\n",
    "\n",
    "# Фильтруем непостоянных пользователей\n",
    "non_permanent_users = df[df['permanent_user'] != True]\n",
    "\n",
    "\n",
    "#Определяем `first_visit_unique` для каждого пользователя\n",
    "first_visit_dates = non_permanent_users.groupby('user_id')[\"datetime\"].min().reset_index()\n",
    "first_visit_dates.columns = ['user_id', 'first_visit_unique']\n",
    "\n",
    "\n",
    "exit_days = np.random.normal(loc=lt, scale=std_lt, size=len(first_visit_dates)) \n",
    "\n",
    "# Применяем для каждого пользователя: `exit_day = first_visit_unique + случайное число дней`\n",
    "first_visit_dates['exit_day'] = first_visit_dates['first_visit_unique'] + pd.to_timedelta(exit_days.astype(int), unit='D')\n",
    "first_visit_dates.head()"
   ]
  },
  {
   "cell_type": "code",
   "execution_count": 25,
   "id": "e3903bb5-1ec1-455c-9047-76dfa40a5932",
   "metadata": {},
   "outputs": [
    {
     "name": "stderr",
     "output_type": "stream",
     "text": [
      "Generating visit qty: 100%|█████████████████████████████████████████████████████████████████████████████████████████████| 425242/425242 [02:12<00:00, 3221.50it/s]\n"
     ]
    },
    {
     "name": "stdout",
     "output_type": "stream",
     "text": [
      "CPU times: user 2min 32s, sys: 11.5 s, total: 2min 44s\n",
      "Wall time: 2min 45s\n"
     ]
    },
    {
     "data": {
      "text/html": [
       "<div>\n",
       "<style scoped>\n",
       "    .dataframe tbody tr th:only-of-type {\n",
       "        vertical-align: middle;\n",
       "    }\n",
       "\n",
       "    .dataframe tbody tr th {\n",
       "        vertical-align: top;\n",
       "    }\n",
       "\n",
       "    .dataframe thead th {\n",
       "        text-align: right;\n",
       "    }\n",
       "</style>\n",
       "<table border=\"1\" class=\"dataframe\">\n",
       "  <thead>\n",
       "    <tr style=\"text-align: right;\">\n",
       "      <th></th>\n",
       "      <th>datetime</th>\n",
       "      <th>user_id</th>\n",
       "      <th>action</th>\n",
       "      <th>type</th>\n",
       "      <th>first_visit</th>\n",
       "      <th>permanent_user</th>\n",
       "      <th>visits_per_day</th>\n",
       "    </tr>\n",
       "  </thead>\n",
       "  <tbody>\n",
       "    <tr>\n",
       "      <th>0</th>\n",
       "      <td>2025-01-01 00:00:00.000001</td>\n",
       "      <td>1</td>\n",
       "      <td>view</td>\n",
       "      <td>main</td>\n",
       "      <td>2025-01-01 09:48:56.906876</td>\n",
       "      <td>False</td>\n",
       "      <td>65</td>\n",
       "    </tr>\n",
       "    <tr>\n",
       "      <th>1</th>\n",
       "      <td>2025-01-02 00:00:00.000001</td>\n",
       "      <td>1</td>\n",
       "      <td>view</td>\n",
       "      <td>main</td>\n",
       "      <td>2025-01-01 09:48:56.906876</td>\n",
       "      <td>False</td>\n",
       "      <td>22</td>\n",
       "    </tr>\n",
       "    <tr>\n",
       "      <th>2</th>\n",
       "      <td>2025-01-03 00:00:00.000001</td>\n",
       "      <td>1</td>\n",
       "      <td>view</td>\n",
       "      <td>main</td>\n",
       "      <td>2025-01-01 09:48:56.906876</td>\n",
       "      <td>False</td>\n",
       "      <td>47</td>\n",
       "    </tr>\n",
       "    <tr>\n",
       "      <th>3</th>\n",
       "      <td>2025-01-04 00:00:00.000001</td>\n",
       "      <td>1</td>\n",
       "      <td>view</td>\n",
       "      <td>main</td>\n",
       "      <td>2025-01-01 09:48:56.906876</td>\n",
       "      <td>False</td>\n",
       "      <td>14</td>\n",
       "    </tr>\n",
       "    <tr>\n",
       "      <th>4</th>\n",
       "      <td>2025-01-05 00:00:00.000001</td>\n",
       "      <td>1</td>\n",
       "      <td>view</td>\n",
       "      <td>main</td>\n",
       "      <td>2025-01-01 09:48:56.906876</td>\n",
       "      <td>False</td>\n",
       "      <td>149</td>\n",
       "    </tr>\n",
       "  </tbody>\n",
       "</table>\n",
       "</div>"
      ],
      "text/plain": [
       "                    datetime  user_id action  type                first_visit  \\\n",
       "0 2025-01-01 00:00:00.000001        1   view  main 2025-01-01 09:48:56.906876   \n",
       "1 2025-01-02 00:00:00.000001        1   view  main 2025-01-01 09:48:56.906876   \n",
       "2 2025-01-03 00:00:00.000001        1   view  main 2025-01-01 09:48:56.906876   \n",
       "3 2025-01-04 00:00:00.000001        1   view  main 2025-01-01 09:48:56.906876   \n",
       "4 2025-01-05 00:00:00.000001        1   view  main 2025-01-01 09:48:56.906876   \n",
       "\n",
       "   permanent_user  visits_per_day  \n",
       "0           False              65  \n",
       "1           False              22  \n",
       "2           False              47  \n",
       "3           False              14  \n",
       "4           False             149  "
      ]
     },
     "execution_count": 25,
     "metadata": {},
     "output_type": "execute_result"
    }
   ],
   "source": [
    "%%time\n",
    "\n",
    "# Создадим список для хранения датафреймов по каждому пользователю\n",
    "dfs = []\n",
    "\n",
    "for _, row in tqdm(first_visit_dates.iterrows(), total=first_visit_dates.shape[0], desc='Generating visit qty'):\n",
    "    user_id = row['user_id']\n",
    "    first_visit = row['first_visit_unique']\n",
    "    exit_day = row['exit_day']\n",
    "    \n",
    "    # Генерация всех дат от first_visit до exit_day\n",
    "    dates = pd.date_range(start=first_visit, end=exit_day, freq='D')\n",
    "\n",
    "    # Генерация количества визитов для каждой даты по логнормальному распределению\n",
    "    visits_per_day = np.random.lognormal(mean=np.log(mean_visits_per_day_log), sigma=std_visits_per_day_log, size=len(dates)).astype(int)\n",
    "\n",
    "    # Создаем мини-датафрейм для текущего пользователя\n",
    "    user_df = pd.DataFrame({\n",
    "        'datetime': [datetime.combine(date, datetime.min.time()) + timedelta(microseconds=1) for date in dates],\n",
    "        'user_id': user_id,\n",
    "        'action': 'view',\n",
    "        'type': 'main',\n",
    "        'first_visit': first_visit,\n",
    "        'permanent_user': False,\n",
    "        'visits_per_day': visits_per_day\n",
    "    })\n",
    "\n",
    "    # Добавляем мини-датафрейм в список\n",
    "    dfs.append(user_df)\n",
    "\n",
    "# Объединяем все мини-датафреймы в один\n",
    "df_visit_times = pd.concat(dfs, ignore_index=True)\n",
    "\n",
    "# Проверяем результат\n",
    "df_visit_times.head()\n"
   ]
  },
  {
   "cell_type": "code",
   "execution_count": 26,
   "id": "2eb276c5-a1a5-4c72-bdbc-be7d74b392a6",
   "metadata": {},
   "outputs": [
    {
     "name": "stdout",
     "output_type": "stream",
     "text": [
      "<class 'pandas.core.frame.DataFrame'>\n",
      "RangeIndex: 6592400 entries, 0 to 6592399\n",
      "Data columns (total 7 columns):\n",
      " #   Column          Dtype         \n",
      "---  ------          -----         \n",
      " 0   datetime        datetime64[ns]\n",
      " 1   user_id         int64         \n",
      " 2   action          object        \n",
      " 3   type            object        \n",
      " 4   first_visit     datetime64[ns]\n",
      " 5   permanent_user  bool          \n",
      " 6   visits_per_day  int64         \n",
      "dtypes: bool(1), datetime64[ns](2), int64(2), object(2)\n",
      "memory usage: 308.1+ MB\n"
     ]
    }
   ],
   "source": [
    "df_visit_times.info()"
   ]
  },
  {
   "cell_type": "code",
   "execution_count": 27,
   "id": "869a1810-f11c-420e-9caf-61ca28ec0a08",
   "metadata": {},
   "outputs": [
    {
     "data": {
      "text/plain": [
       "6012945415"
      ]
     },
     "execution_count": 27,
     "metadata": {},
     "output_type": "execute_result"
    }
   ],
   "source": [
    "df_visit_times['visits_per_day'].sum()"
   ]
  },
  {
   "cell_type": "markdown",
   "id": "3d71c954-d720-4268-a757-d532b0685fc8",
   "metadata": {},
   "source": [
    "# Вывод:\n",
    "## проект требует доработки\n",
    "- прирост пользователей выглядит ненатурально (резкий экспоненциальный рост)\n",
    "- количество генерируемых данных уже на данном этапе чрезмерно большое (также вызвано резким ростом) для целей проекта\n",
    "- на следующем этапе прирост пользователей рассчитаем лограифмической функцией с добавлением шума, рассчитанного на основании нормального распределения"
   ]
  }
 ],
 "metadata": {
  "kernelspec": {
   "display_name": "Python 3.11 (py_311)",
   "language": "python",
   "name": "py_311"
  },
  "language_info": {
   "codemirror_mode": {
    "name": "ipython",
    "version": 3
   },
   "file_extension": ".py",
   "mimetype": "text/x-python",
   "name": "python",
   "nbconvert_exporter": "python",
   "pygments_lexer": "ipython3",
   "version": "3.11.0"
  }
 },
 "nbformat": 4,
 "nbformat_minor": 5
}
